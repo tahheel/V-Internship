{
 "cells": [
  {
   "cell_type": "markdown",
   "metadata": {},
   "source": [
    "# VIRTUAL INTERNSHIP(WEEK1)"
   ]
  },
  {
   "cell_type": "code",
   "execution_count": 1,
   "metadata": {},
   "outputs": [],
   "source": [
    "#importing all the necessary resource\n",
    "\n",
    "import pandas as pd\n",
    "import numpy as np\n",
    "from matplotlib import pyplot as plt\n",
    "import seaborn as sns"
   ]
  },
  {
   "cell_type": "markdown",
   "metadata": {},
   "source": [
    "# DATA WRANGLING FOR ENROLLED APPLICANTS"
   ]
  },
  {
   "cell_type": "code",
   "execution_count": 2,
   "metadata": {
    "scrolled": true
   },
   "outputs": [
    {
     "data": {
      "text/html": [
       "<div>\n",
       "<style scoped>\n",
       "    .dataframe tbody tr th:only-of-type {\n",
       "        vertical-align: middle;\n",
       "    }\n",
       "\n",
       "    .dataframe tbody tr th {\n",
       "        vertical-align: top;\n",
       "    }\n",
       "\n",
       "    .dataframe thead th {\n",
       "        text-align: right;\n",
       "    }\n",
       "</style>\n",
       "<table border=\"1\" class=\"dataframe\">\n",
       "  <thead>\n",
       "    <tr style=\"text-align: right;\">\n",
       "      <th></th>\n",
       "      <th>Unnamed: 0</th>\n",
       "      <th>FIRST NAME</th>\n",
       "      <th>LAST NAME</th>\n",
       "      <th>SOURCE</th>\n",
       "      <th>COURSE</th>\n",
       "      <th>TRACK</th>\n",
       "      <th>GENDER</th>\n",
       "    </tr>\n",
       "  </thead>\n",
       "  <tbody>\n",
       "    <tr>\n",
       "      <th>1761</th>\n",
       "      <td>2020</td>\n",
       "      <td>Edward</td>\n",
       "      <td>Johnston</td>\n",
       "      <td>WEBSITE</td>\n",
       "      <td>Backend With Python Django</td>\n",
       "      <td>Weekday</td>\n",
       "      <td>Male</td>\n",
       "    </tr>\n",
       "    <tr>\n",
       "      <th>1762</th>\n",
       "      <td>1295</td>\n",
       "      <td>Brian</td>\n",
       "      <td>Hargrove</td>\n",
       "      <td>Social Media</td>\n",
       "      <td>Full Stack</td>\n",
       "      <td>Weekday</td>\n",
       "      <td>Male</td>\n",
       "    </tr>\n",
       "    <tr>\n",
       "      <th>1763</th>\n",
       "      <td>2827</td>\n",
       "      <td>Grady</td>\n",
       "      <td>Sullens</td>\n",
       "      <td>Social Media</td>\n",
       "      <td>Frontend Web Development</td>\n",
       "      <td>ONLINE</td>\n",
       "      <td>Male</td>\n",
       "    </tr>\n",
       "    <tr>\n",
       "      <th>1764</th>\n",
       "      <td>1894</td>\n",
       "      <td>Felipe</td>\n",
       "      <td>Fassino</td>\n",
       "      <td>Social Media</td>\n",
       "      <td>Figma Design to Webflow</td>\n",
       "      <td>Weekday</td>\n",
       "      <td>Male</td>\n",
       "    </tr>\n",
       "    <tr>\n",
       "      <th>1765</th>\n",
       "      <td>1662</td>\n",
       "      <td>John</td>\n",
       "      <td>Easley</td>\n",
       "      <td>Social Media</td>\n",
       "      <td>Python For DataScience</td>\n",
       "      <td>ONLINE</td>\n",
       "      <td>Male</td>\n",
       "    </tr>\n",
       "  </tbody>\n",
       "</table>\n",
       "</div>"
      ],
      "text/plain": [
       "      Unnamed: 0 FIRST NAME LAST NAME        SOURCE  \\\n",
       "1761        2020     Edward  Johnston       WEBSITE   \n",
       "1762        1295      Brian  Hargrove  Social Media   \n",
       "1763        2827      Grady   Sullens  Social Media   \n",
       "1764        1894     Felipe   Fassino  Social Media   \n",
       "1765        1662       John    Easley  Social Media   \n",
       "\n",
       "                          COURSE    TRACK GENDER  \n",
       "1761  Backend With Python Django  Weekday   Male  \n",
       "1762                  Full Stack  Weekday   Male  \n",
       "1763    Frontend Web Development   ONLINE   Male  \n",
       "1764     Figma Design to Webflow  Weekday   Male  \n",
       "1765      Python For DataScience   ONLINE   Male  "
      ]
     },
     "execution_count": 2,
     "metadata": {},
     "output_type": "execute_result"
    }
   ],
   "source": [
    "enrolledapp = pd.read_csv('enrolled_applicants.csv')\n",
    "enrolledapp.tail()"
   ]
  },
  {
   "cell_type": "code",
   "execution_count": 3,
   "metadata": {
    "scrolled": false
   },
   "outputs": [
    {
     "data": {
      "text/plain": [
       "<bound method NDFrame.describe of       Unnamed: 0 FIRST NAME LAST NAME        SOURCE  \\\n",
       "0           1120     Robert    Mccain       WEBSITE   \n",
       "1           2557     Russel    Reagin      Mr Simps   \n",
       "2           1682      Barry   Dickson       WEBSITE   \n",
       "3           1961      Allen  Williams      Mr Simps   \n",
       "4            295      Brian     Bryon  Social Media   \n",
       "...          ...        ...       ...           ...   \n",
       "1761        2020     Edward  Johnston       WEBSITE   \n",
       "1762        1295      Brian  Hargrove  Social Media   \n",
       "1763        2827      Grady   Sullens  Social Media   \n",
       "1764        1894     Felipe   Fassino  Social Media   \n",
       "1765        1662       John    Easley  Social Media   \n",
       "\n",
       "                          COURSE    TRACK GENDER  \n",
       "0                     Full Stack  Weekday   Male  \n",
       "1                     Full Stack  Weekday   Male  \n",
       "2                     Full Stack  Weekday   Male  \n",
       "3                            NaN  Weekday   Male  \n",
       "4        Python For Data Science  Weekend   Male  \n",
       "...                          ...      ...    ...  \n",
       "1761  Backend With Python Django  Weekday   Male  \n",
       "1762                  Full Stack  Weekday   Male  \n",
       "1763    Frontend Web Development   ONLINE   Male  \n",
       "1764     Figma Design to Webflow  Weekday   Male  \n",
       "1765      Python For DataScience   ONLINE   Male  \n",
       "\n",
       "[1766 rows x 7 columns]>"
      ]
     },
     "execution_count": 3,
     "metadata": {},
     "output_type": "execute_result"
    }
   ],
   "source": [
    "enrolledapp.describe"
   ]
  },
  {
   "cell_type": "code",
   "execution_count": 4,
   "metadata": {
    "scrolled": false
   },
   "outputs": [
    {
     "data": {
      "text/html": [
       "<div>\n",
       "<style scoped>\n",
       "    .dataframe tbody tr th:only-of-type {\n",
       "        vertical-align: middle;\n",
       "    }\n",
       "\n",
       "    .dataframe tbody tr th {\n",
       "        vertical-align: top;\n",
       "    }\n",
       "\n",
       "    .dataframe thead th {\n",
       "        text-align: right;\n",
       "    }\n",
       "</style>\n",
       "<table border=\"1\" class=\"dataframe\">\n",
       "  <thead>\n",
       "    <tr style=\"text-align: right;\">\n",
       "      <th></th>\n",
       "      <th>applicantID</th>\n",
       "      <th>FIRST NAME</th>\n",
       "      <th>LAST NAME</th>\n",
       "      <th>SOURCE</th>\n",
       "      <th>COURSE</th>\n",
       "      <th>TRACK</th>\n",
       "      <th>GENDER</th>\n",
       "    </tr>\n",
       "  </thead>\n",
       "  <tbody>\n",
       "    <tr>\n",
       "      <th>0</th>\n",
       "      <td>1120</td>\n",
       "      <td>Robert</td>\n",
       "      <td>Mccain</td>\n",
       "      <td>WEBSITE</td>\n",
       "      <td>Full Stack</td>\n",
       "      <td>Weekday</td>\n",
       "      <td>Male</td>\n",
       "    </tr>\n",
       "    <tr>\n",
       "      <th>1</th>\n",
       "      <td>2557</td>\n",
       "      <td>Russel</td>\n",
       "      <td>Reagin</td>\n",
       "      <td>Mr Simps</td>\n",
       "      <td>Full Stack</td>\n",
       "      <td>Weekday</td>\n",
       "      <td>Male</td>\n",
       "    </tr>\n",
       "    <tr>\n",
       "      <th>2</th>\n",
       "      <td>1682</td>\n",
       "      <td>Barry</td>\n",
       "      <td>Dickson</td>\n",
       "      <td>WEBSITE</td>\n",
       "      <td>Full Stack</td>\n",
       "      <td>Weekday</td>\n",
       "      <td>Male</td>\n",
       "    </tr>\n",
       "    <tr>\n",
       "      <th>3</th>\n",
       "      <td>1961</td>\n",
       "      <td>Allen</td>\n",
       "      <td>Williams</td>\n",
       "      <td>Mr Simps</td>\n",
       "      <td>NaN</td>\n",
       "      <td>Weekday</td>\n",
       "      <td>Male</td>\n",
       "    </tr>\n",
       "    <tr>\n",
       "      <th>4</th>\n",
       "      <td>295</td>\n",
       "      <td>Brian</td>\n",
       "      <td>Bryon</td>\n",
       "      <td>Social Media</td>\n",
       "      <td>Python For Data Science</td>\n",
       "      <td>Weekend</td>\n",
       "      <td>Male</td>\n",
       "    </tr>\n",
       "  </tbody>\n",
       "</table>\n",
       "</div>"
      ],
      "text/plain": [
       "   applicantID FIRST NAME LAST NAME        SOURCE                   COURSE  \\\n",
       "0         1120     Robert    Mccain       WEBSITE               Full Stack   \n",
       "1         2557     Russel    Reagin      Mr Simps               Full Stack   \n",
       "2         1682      Barry   Dickson       WEBSITE               Full Stack   \n",
       "3         1961      Allen  Williams      Mr Simps                      NaN   \n",
       "4          295      Brian     Bryon  Social Media  Python For Data Science   \n",
       "\n",
       "     TRACK GENDER  \n",
       "0  Weekday   Male  \n",
       "1  Weekday   Male  \n",
       "2  Weekday   Male  \n",
       "3  Weekday   Male  \n",
       "4  Weekend   Male  "
      ]
     },
     "execution_count": 4,
     "metadata": {},
     "output_type": "execute_result"
    }
   ],
   "source": [
    "# RENAMING THE FIRST COLUMN TO APPLICANT ID\n",
    "\n",
    "\n",
    "enrolledapp = enrolledapp.rename(columns = {\"Unnamed: 0\":\"applicantID\"})\n",
    "enrolledapp.head()"
   ]
  },
  {
   "cell_type": "code",
   "execution_count": 5,
   "metadata": {
    "scrolled": true
   },
   "outputs": [
    {
     "data": {
      "text/plain": [
       "Male      1611\n",
       "Female     142\n",
       "male        12\n",
       "female       1\n",
       "Name: GENDER, dtype: int64"
      ]
     },
     "execution_count": 5,
     "metadata": {},
     "output_type": "execute_result"
    }
   ],
   "source": [
    "enrolledapp['GENDER'].value_counts()"
   ]
  },
  {
   "cell_type": "code",
   "execution_count": 6,
   "metadata": {
    "scrolled": false
   },
   "outputs": [
    {
     "data": {
      "text/plain": [
       "Social Media    1096\n",
       "WEBSITE          436\n",
       "Mr Simps         222\n",
       "Name: SOURCE, dtype: int64"
      ]
     },
     "execution_count": 6,
     "metadata": {},
     "output_type": "execute_result"
    }
   ],
   "source": [
    "enrolledapp['SOURCE'].value_counts()"
   ]
  },
  {
   "cell_type": "code",
   "execution_count": 7,
   "metadata": {
    "scrolled": false
   },
   "outputs": [
    {
     "data": {
      "text/plain": [
       "Weekday    1131\n",
       "Weekend     406\n",
       "ONLINE      229\n",
       "Name: TRACK, dtype: int64"
      ]
     },
     "execution_count": 7,
     "metadata": {},
     "output_type": "execute_result"
    }
   ],
   "source": [
    "enrolledapp['TRACK'].value_counts()"
   ]
  },
  {
   "cell_type": "code",
   "execution_count": 8,
   "metadata": {
    "scrolled": false
   },
   "outputs": [
    {
     "data": {
      "text/plain": [
       "Full Stack                      310\n",
       "FullStack                       298\n",
       "Product Design(UI/UX)           124\n",
       "Figma Design to Webflow         122\n",
       "Frontend Web Development        121\n",
       "Product Design(UI/UX) ONLINE    112\n",
       "Python For DataScience          102\n",
       "Product Design                  100\n",
       "CyberSecurity                    97\n",
       "Product Management               93\n",
       "Backend With Python Django       92\n",
       "Frontend                         88\n",
       "Python For Data Science          82\n",
       "Name: COURSE, dtype: int64"
      ]
     },
     "execution_count": 8,
     "metadata": {},
     "output_type": "execute_result"
    }
   ],
   "source": [
    "enrolledapp['COURSE'].value_counts()"
   ]
  },
  {
   "cell_type": "code",
   "execution_count": 9,
   "metadata": {
    "scrolled": true
   },
   "outputs": [
    {
     "data": {
      "text/plain": [
       "1766"
      ]
     },
     "execution_count": 9,
     "metadata": {},
     "output_type": "execute_result"
    }
   ],
   "source": [
    "len(enrolledapp)"
   ]
  },
  {
   "cell_type": "code",
   "execution_count": 10,
   "metadata": {
    "scrolled": true
   },
   "outputs": [
    {
     "data": {
      "text/plain": [
       "Male      1623\n",
       "Female     143\n",
       "Name: GENDER, dtype: int64"
      ]
     },
     "execution_count": 10,
     "metadata": {},
     "output_type": "execute_result"
    }
   ],
   "source": [
    "# Replace all gender with small letters to capital letters\n",
    "\n",
    "\n",
    "enrolledapp[\"GENDER\"] = enrolledapp[\"GENDER\"].apply(lambda x: x.capitalize())\n",
    "enrolledapp[\"GENDER\"].value_counts()\n",
    "\n",
    "\n"
   ]
  },
  {
   "cell_type": "code",
   "execution_count": 11,
   "metadata": {
    "scrolled": false
   },
   "outputs": [
    {
     "data": {
      "text/plain": [
       "array(['Full Stack', nan, 'Python For Data Science', 'FullStack',\n",
       "       'Product Design(UI/UX)', 'Product Management', 'Frontend',\n",
       "       'Frontend Web Development', 'Figma Design to Webflow',\n",
       "       'Product Design(UI/UX) ONLINE', 'Product Design',\n",
       "       'Backend With Python Django', 'CyberSecurity',\n",
       "       'Python For DataScience'], dtype=object)"
      ]
     },
     "execution_count": 11,
     "metadata": {},
     "output_type": "execute_result"
    }
   ],
   "source": [
    "enrolledapp['COURSE'].unique()"
   ]
  },
  {
   "cell_type": "code",
   "execution_count": 12,
   "metadata": {},
   "outputs": [],
   "source": [
    "# checking for the number enrolled applicants using data visualization\n",
    "\n",
    "\n",
    "nums_enrolled_male = enrolledapp['GENDER'] == 'male'\n",
    "\n",
    "nums_enrolled_female = enrolledapp['GENDER'] == 'female'\n",
    "\n",
    "\n"
   ]
  },
  {
   "cell_type": "code",
   "execution_count": 31,
   "metadata": {
    "scrolled": false
   },
   "outputs": [
    {
     "data": {
      "image/png": "[encoded data removed]",
      "text/plain": [
       "<Figure size 432x288 with 1 Axes>"
      ]
     },
     "metadata": {
      "needs_background": "light"
     },
     "output_type": "display_data"
    }
   ],
   "source": [
    "# Visualization of enrolled 'gender' data in the file.  \n",
    "fig, ax = plt.subplots()  \n",
    "x = enrolledapp.GENDER.unique()    \n",
    "y = enrolledapp.GENDER.value_counts()    \n",
    "ax.bar(x, y)  \n",
    "ax.set_xlabel('Gender')  \n",
    "ax.set_ylabel('Nos of enrolled applicants') \n",
    "plt.show()\n"
   ]
  },
  {
   "cell_type": "code",
   "execution_count": 32,
   "metadata": {
    "scrolled": false
   },
   "outputs": [
    {
     "data": {
      "image/png": "[encoded data removed]",
      "text/plain": [
       "<Figure size 1080x360 with 1 Axes>"
      ]
     },
     "metadata": {
      "needs_background": "light"
     },
     "output_type": "display_data"
    }
   ],
   "source": [
    "figure(figsize=(15,5))\n",
    "ax = sns.countplot(x = enrolledapp['COURSE'], data=enrolledapp)\n",
    "ax.set_xticklabels(ax.get_xticklabels(), rotation=40, ha=\"right\")\n",
    "plt.tight_layout()\n",
    "plt.show()\n"
   ]
  },
  {
   "cell_type": "code",
   "execution_count": 34,
   "metadata": {},
   "outputs": [],
   "source": [
    "# To solve for where Fullstack and Python for data science appeared twice\n",
    "\n",
    "enrolledapp['COURSE'].replace({'FullStack':'Full Stack', 'Python For DataScience':'Python For Data Science'}, inplace = True)\n",
    " \n",
    "\n"
   ]
  },
  {
   "cell_type": "code",
   "execution_count": 36,
   "metadata": {
    "scrolled": true
   },
   "outputs": [
    {
     "data": {
      "image/png": "[encoded data removed]",
      "text/plain": [
       "<Figure size 1080x360 with 1 Axes>"
      ]
     },
     "metadata": {
      "needs_background": "light"
     },
     "output_type": "display_data"
    }
   ],
   "source": [
    "plt.figure(figsize=(15,5))\n",
    "ax = sns.countplot(x = enrolledapp['COURSE'], data=enrolledapp)\n",
    "ax.set_xticklabels(ax.get_xticklabels(), rotation=40, ha=\"right\")\n",
    "plt.tight_layout()\n",
    "plt.show()\n"
   ]
  },
  {
   "cell_type": "markdown",
   "metadata": {},
   "source": [
    "# DATA WRANGLING FOR REGISTERED APPLICANTS"
   ]
  },
  {
   "cell_type": "code",
   "execution_count": 17,
   "metadata": {},
   "outputs": [
    {
     "data": {
      "text/html": [
       "<div>\n",
       "<style scoped>\n",
       "    .dataframe tbody tr th:only-of-type {\n",
       "        vertical-align: middle;\n",
       "    }\n",
       "\n",
       "    .dataframe tbody tr th {\n",
       "        vertical-align: top;\n",
       "    }\n",
       "\n",
       "    .dataframe thead th {\n",
       "        text-align: right;\n",
       "    }\n",
       "</style>\n",
       "<table border=\"1\" class=\"dataframe\">\n",
       "  <thead>\n",
       "    <tr style=\"text-align: right;\">\n",
       "      <th></th>\n",
       "      <th>Unnamed: 0</th>\n",
       "      <th>FIRST NAME</th>\n",
       "      <th>LAST NAME</th>\n",
       "      <th>SOURCE</th>\n",
       "      <th>COURSE</th>\n",
       "      <th>TRACK</th>\n",
       "      <th>GENDER</th>\n",
       "    </tr>\n",
       "  </thead>\n",
       "  <tbody>\n",
       "    <tr>\n",
       "      <th>0</th>\n",
       "      <td>2373</td>\n",
       "      <td>Brian</td>\n",
       "      <td>May</td>\n",
       "      <td>Social Media</td>\n",
       "      <td>Python For DataScience</td>\n",
       "      <td>Weekend</td>\n",
       "      <td>Male</td>\n",
       "    </tr>\n",
       "    <tr>\n",
       "      <th>1</th>\n",
       "      <td>758</td>\n",
       "      <td>Leon</td>\n",
       "      <td>Melvin</td>\n",
       "      <td>Social Media</td>\n",
       "      <td>Product Design(UI/UX)</td>\n",
       "      <td>Weekend</td>\n",
       "      <td>Male</td>\n",
       "    </tr>\n",
       "    <tr>\n",
       "      <th>2</th>\n",
       "      <td>2287</td>\n",
       "      <td>Juan</td>\n",
       "      <td>Harris</td>\n",
       "      <td>Mr Simps</td>\n",
       "      <td>Product Design(UI/UX)</td>\n",
       "      <td>Weekday</td>\n",
       "      <td>Male</td>\n",
       "    </tr>\n",
       "    <tr>\n",
       "      <th>3</th>\n",
       "      <td>2480</td>\n",
       "      <td>Gilbert</td>\n",
       "      <td>Denson</td>\n",
       "      <td>Social Media</td>\n",
       "      <td>Figma Design to Webflow</td>\n",
       "      <td>Weekend</td>\n",
       "      <td>Male</td>\n",
       "    </tr>\n",
       "    <tr>\n",
       "      <th>4</th>\n",
       "      <td>1359</td>\n",
       "      <td>Larry</td>\n",
       "      <td>Williams</td>\n",
       "      <td>WEBSITE</td>\n",
       "      <td>Python For DataScience</td>\n",
       "      <td>Weekday</td>\n",
       "      <td>Male</td>\n",
       "    </tr>\n",
       "  </tbody>\n",
       "</table>\n",
       "</div>"
      ],
      "text/plain": [
       "   Unnamed: 0 FIRST NAME LAST NAME        SOURCE                   COURSE  \\\n",
       "0        2373      Brian       May  Social Media   Python For DataScience   \n",
       "1         758       Leon    Melvin  Social Media    Product Design(UI/UX)   \n",
       "2        2287       Juan    Harris      Mr Simps    Product Design(UI/UX)   \n",
       "3        2480    Gilbert    Denson  Social Media  Figma Design to Webflow   \n",
       "4        1359      Larry  Williams       WEBSITE   Python For DataScience   \n",
       "\n",
       "     TRACK GENDER  \n",
       "0  Weekend   Male  \n",
       "1  Weekend   Male  \n",
       "2  Weekday   Male  \n",
       "3  Weekend   Male  \n",
       "4  Weekday   Male  "
      ]
     },
     "execution_count": 17,
     "metadata": {},
     "output_type": "execute_result"
    }
   ],
   "source": [
    "regisapp = pd.read_csv('registered_applicants.csv')\n",
    "regisapp.head()"
   ]
  },
  {
   "cell_type": "code",
   "execution_count": 18,
   "metadata": {
    "scrolled": false
   },
   "outputs": [
    {
     "data": {
      "text/html": [
       "<div>\n",
       "<style scoped>\n",
       "    .dataframe tbody tr th:only-of-type {\n",
       "        vertical-align: middle;\n",
       "    }\n",
       "\n",
       "    .dataframe tbody tr th {\n",
       "        vertical-align: top;\n",
       "    }\n",
       "\n",
       "    .dataframe thead th {\n",
       "        text-align: right;\n",
       "    }\n",
       "</style>\n",
       "<table border=\"1\" class=\"dataframe\">\n",
       "  <thead>\n",
       "    <tr style=\"text-align: right;\">\n",
       "      <th></th>\n",
       "      <th>applicantID</th>\n",
       "      <th>FIRST NAME</th>\n",
       "      <th>LAST NAME</th>\n",
       "      <th>SOURCE</th>\n",
       "      <th>COURSE</th>\n",
       "      <th>TRACK</th>\n",
       "      <th>GENDER</th>\n",
       "    </tr>\n",
       "  </thead>\n",
       "  <tbody>\n",
       "    <tr>\n",
       "      <th>0</th>\n",
       "      <td>2373</td>\n",
       "      <td>Brian</td>\n",
       "      <td>May</td>\n",
       "      <td>Social Media</td>\n",
       "      <td>Python For DataScience</td>\n",
       "      <td>Weekend</td>\n",
       "      <td>Male</td>\n",
       "    </tr>\n",
       "    <tr>\n",
       "      <th>1</th>\n",
       "      <td>758</td>\n",
       "      <td>Leon</td>\n",
       "      <td>Melvin</td>\n",
       "      <td>Social Media</td>\n",
       "      <td>Product Design(UI/UX)</td>\n",
       "      <td>Weekend</td>\n",
       "      <td>Male</td>\n",
       "    </tr>\n",
       "    <tr>\n",
       "      <th>2</th>\n",
       "      <td>2287</td>\n",
       "      <td>Juan</td>\n",
       "      <td>Harris</td>\n",
       "      <td>Mr Simps</td>\n",
       "      <td>Product Design(UI/UX)</td>\n",
       "      <td>Weekday</td>\n",
       "      <td>Male</td>\n",
       "    </tr>\n",
       "    <tr>\n",
       "      <th>3</th>\n",
       "      <td>2480</td>\n",
       "      <td>Gilbert</td>\n",
       "      <td>Denson</td>\n",
       "      <td>Social Media</td>\n",
       "      <td>Figma Design to Webflow</td>\n",
       "      <td>Weekend</td>\n",
       "      <td>Male</td>\n",
       "    </tr>\n",
       "    <tr>\n",
       "      <th>4</th>\n",
       "      <td>1359</td>\n",
       "      <td>Larry</td>\n",
       "      <td>Williams</td>\n",
       "      <td>WEBSITE</td>\n",
       "      <td>Python For DataScience</td>\n",
       "      <td>Weekday</td>\n",
       "      <td>Male</td>\n",
       "    </tr>\n",
       "  </tbody>\n",
       "</table>\n",
       "</div>"
      ],
      "text/plain": [
       "   applicantID FIRST NAME LAST NAME        SOURCE                   COURSE  \\\n",
       "0         2373      Brian       May  Social Media   Python For DataScience   \n",
       "1          758       Leon    Melvin  Social Media    Product Design(UI/UX)   \n",
       "2         2287       Juan    Harris      Mr Simps    Product Design(UI/UX)   \n",
       "3         2480    Gilbert    Denson  Social Media  Figma Design to Webflow   \n",
       "4         1359      Larry  Williams       WEBSITE   Python For DataScience   \n",
       "\n",
       "     TRACK GENDER  \n",
       "0  Weekend   Male  \n",
       "1  Weekend   Male  \n",
       "2  Weekday   Male  \n",
       "3  Weekend   Male  \n",
       "4  Weekday   Male  "
      ]
     },
     "execution_count": 18,
     "metadata": {},
     "output_type": "execute_result"
    }
   ],
   "source": [
    "#RENAMING THE FIRST COLUMN TO APPLICANTS ID\n",
    "regisapp = regisapp.rename(columns = {\"Unnamed: 0\":\"applicantID\"})\n",
    "regisapp.head()\n"
   ]
  },
  {
   "cell_type": "code",
   "execution_count": 19,
   "metadata": {
    "scrolled": true
   },
   "outputs": [
    {
     "data": {
      "text/plain": [
       "<bound method NDFrame.describe of       applicantID FIRST NAME LAST NAME        SOURCE                   COURSE  \\\n",
       "0            2373      Brian       May  Social Media   Python For DataScience   \n",
       "1             758       Leon    Melvin  Social Media    Product Design(UI/UX)   \n",
       "2            2287       Juan    Harris      Mr Simps    Product Design(UI/UX)   \n",
       "3            2480    Gilbert    Denson  Social Media  Figma Design to Webflow   \n",
       "4            1359      Larry  Williams       WEBSITE   Python For DataScience   \n",
       "...           ...        ...       ...           ...                      ...   \n",
       "3671         1990     Donald      Peno  Social Media  Python For Data Science   \n",
       "3672          245    Patrick      Azar      Mr Simps               Full Stack   \n",
       "3673         2548      Billy     Jones       WEBSITE               Full Stack   \n",
       "3674         2162       Luis    Tellez  Social Media               Full Stack   \n",
       "3675         3190      Ethel   Labonte  Social Media                FullStack   \n",
       "\n",
       "        TRACK  GENDER  \n",
       "0     Weekend    Male  \n",
       "1     Weekend    Male  \n",
       "2     Weekday    Male  \n",
       "3     Weekend    Male  \n",
       "4     Weekday    Male  \n",
       "...       ...     ...  \n",
       "3671  Weekday    Male  \n",
       "3672  Weekday    Male  \n",
       "3673   ONLINE    Male  \n",
       "3674  Weekday    Male  \n",
       "3675  Weekday  Female  \n",
       "\n",
       "[3676 rows x 7 columns]>"
      ]
     },
     "execution_count": 19,
     "metadata": {},
     "output_type": "execute_result"
    }
   ],
   "source": [
    "regisapp.describe"
   ]
  },
  {
   "cell_type": "code",
   "execution_count": 20,
   "metadata": {},
   "outputs": [],
   "source": [
    "subregisapp = regisapp[['applicantID', 'GENDER']]"
   ]
  },
  {
   "cell_type": "code",
   "execution_count": 21,
   "metadata": {
    "scrolled": false
   },
   "outputs": [
    {
     "data": {
      "text/html": [
       "<div>\n",
       "<style scoped>\n",
       "    .dataframe tbody tr th:only-of-type {\n",
       "        vertical-align: middle;\n",
       "    }\n",
       "\n",
       "    .dataframe tbody tr th {\n",
       "        vertical-align: top;\n",
       "    }\n",
       "\n",
       "    .dataframe thead th {\n",
       "        text-align: right;\n",
       "    }\n",
       "</style>\n",
       "<table border=\"1\" class=\"dataframe\">\n",
       "  <thead>\n",
       "    <tr style=\"text-align: right;\">\n",
       "      <th></th>\n",
       "    </tr>\n",
       "  </thead>\n",
       "  <tbody>\n",
       "    <tr>\n",
       "      <th>0</th>\n",
       "    </tr>\n",
       "    <tr>\n",
       "      <th>1</th>\n",
       "    </tr>\n",
       "    <tr>\n",
       "      <th>2</th>\n",
       "    </tr>\n",
       "    <tr>\n",
       "      <th>3</th>\n",
       "    </tr>\n",
       "    <tr>\n",
       "      <th>4</th>\n",
       "    </tr>\n",
       "    <tr>\n",
       "      <th>...</th>\n",
       "    </tr>\n",
       "    <tr>\n",
       "      <th>3671</th>\n",
       "    </tr>\n",
       "    <tr>\n",
       "      <th>3672</th>\n",
       "    </tr>\n",
       "    <tr>\n",
       "      <th>3673</th>\n",
       "    </tr>\n",
       "    <tr>\n",
       "      <th>3674</th>\n",
       "    </tr>\n",
       "    <tr>\n",
       "      <th>3675</th>\n",
       "    </tr>\n",
       "  </tbody>\n",
       "</table>\n",
       "<p>3676 rows × 0 columns</p>\n",
       "</div>"
      ],
      "text/plain": [
       "Empty DataFrame\n",
       "Columns: []\n",
       "Index: [0, 1, 2, 3, 4, 5, 6, 7, 8, 9, 10, 11, 12, 13, 14, 15, 16, 17, 18, 19, 20, 21, 22, 23, 24, 25, 26, 27, 28, 29, 30, 31, 32, 33, 34, 35, 36, 37, 38, 39, 40, 41, 42, 43, 44, 45, 46, 47, 48, 49, 50, 51, 52, 53, 54, 55, 56, 57, 58, 59, 60, 61, 62, 63, 64, 65, 66, 67, 68, 69, 70, 71, 72, 73, 74, 75, 76, 77, 78, 79, 80, 81, 82, 83, 84, 85, 86, 87, 88, 89, 90, 91, 92, 93, 94, 95, 96, 97, 98, 99, ...]\n",
       "\n",
       "[3676 rows x 0 columns]"
      ]
     },
     "execution_count": 21,
     "metadata": {},
     "output_type": "execute_result"
    }
   ],
   "source": [
    "\n",
    "regisapp.filter(regex='regex')"
   ]
  },
  {
   "cell_type": "code",
   "execution_count": 22,
   "metadata": {
    "scrolled": true
   },
   "outputs": [
    {
     "data": {
      "text/plain": [
       "Male      2883\n",
       "Female     713\n",
       "male        20\n",
       "female       4\n",
       "Name: GENDER, dtype: int64"
      ]
     },
     "execution_count": 22,
     "metadata": {},
     "output_type": "execute_result"
    }
   ],
   "source": [
    "# checking for the unique values in the gender column\n",
    "\n",
    "regisapp['GENDER'].value_counts()"
   ]
  },
  {
   "cell_type": "code",
   "execution_count": 23,
   "metadata": {
    "scrolled": true
   },
   "outputs": [
    {
     "data": {
      "text/plain": [
       "array(['Male', 'Female', nan, 'male', 'female'], dtype=object)"
      ]
     },
     "execution_count": 23,
     "metadata": {},
     "output_type": "execute_result"
    }
   ],
   "source": [
    "regisapp['GENDER'].unique()"
   ]
  },
  {
   "cell_type": "code",
   "execution_count": 24,
   "metadata": {
    "scrolled": true
   },
   "outputs": [
    {
     "data": {
      "text/plain": [
       "array(['Male', 'Female', nan], dtype=object)"
      ]
     },
     "execution_count": 24,
     "metadata": {},
     "output_type": "execute_result"
    }
   ],
   "source": [
    "# Replacing all values of small letters to capital letters in gender\n",
    "\n",
    "regisapp.GENDER = regisapp.GENDER.replace(['male','female'], ['Male','Female'])\n",
    "regisapp.GENDER.unique()\n"
   ]
  },
  {
   "cell_type": "code",
   "execution_count": 25,
   "metadata": {},
   "outputs": [
    {
     "data": {
      "text/plain": [
       "3676"
      ]
     },
     "execution_count": 25,
     "metadata": {},
     "output_type": "execute_result"
    }
   ],
   "source": [
    "# Finding out the nums of registered applicants\n",
    "\n",
    "nums_of_regisapp = regisapp.applicantID.count()\n",
    "nums_of_regisapp"
   ]
  },
  {
   "cell_type": "code",
   "execution_count": 26,
   "metadata": {},
   "outputs": [
    {
     "data": {
      "text/plain": [
       "2903"
      ]
     },
     "execution_count": 26,
     "metadata": {},
     "output_type": "execute_result"
    }
   ],
   "source": [
    "# finding out the nums of registered male applicants\n",
    "\n",
    "nums_of_regis_male_applicant = regisapp[regisapp.GENDER == 'Male'].GENDER.count()\n",
    "nums_of_regis_male_applicant"
   ]
  },
  {
   "cell_type": "code",
   "execution_count": 27,
   "metadata": {},
   "outputs": [
    {
     "data": {
      "text/plain": [
       "717"
      ]
     },
     "execution_count": 27,
     "metadata": {},
     "output_type": "execute_result"
    }
   ],
   "source": [
    "# Check for nums of female applicants\n",
    "nums_of_regis_female_applicant = regisapp[regisapp.GENDER == 'Female'].GENDER.count()\n",
    "nums_of_regis_female_applicant\n"
   ]
  },
  {
   "cell_type": "code",
   "execution_count": 28,
   "metadata": {
    "scrolled": false
   },
   "outputs": [
    {
     "data": {
      "text/plain": [
       "applicantID    56\n",
       "FIRST NAME     56\n",
       "LAST NAME      56\n",
       "SOURCE         56\n",
       "COURSE         56\n",
       "TRACK          56\n",
       "GENDER          0\n",
       "dtype: int64"
      ]
     },
     "execution_count": 28,
     "metadata": {},
     "output_type": "execute_result"
    }
   ],
   "source": [
    "# Checking for registered applicants with null value\n",
    "\n",
    "nums_of_regisapp_null_GENDER = regisapp[regisapp.GENDER.isnull()]\n",
    "nums_of_regisapp_null_GENDER.count()"
   ]
  },
  {
   "cell_type": "code",
   "execution_count": 41,
   "metadata": {
    "scrolled": true
   },
   "outputs": [
    {
     "data": {
      "text/plain": [
       "<AxesSubplot:xlabel='GENDER', ylabel='count'>"
      ]
     },
     "execution_count": 41,
     "metadata": {},
     "output_type": "execute_result"
    },
    {
     "data": {
      "image/png": "[encoded data removed]",
      "text/plain": [
       "<Figure size 432x288 with 1 Axes>"
      ]
     },
     "metadata": {
      "needs_background": "light"
     },
     "output_type": "display_data"
    }
   ],
   "source": [
    "# Visualization of registered 'gender' data in the file\n",
    "\n",
    "sns.countplot(x = regisapp['GENDER'], data=regisapp)"
   ]
  },
  {
   "cell_type": "code",
   "execution_count": 30,
   "metadata": {
    "scrolled": true
   },
   "outputs": [
    {
     "data": {
      "image/png": "[encoded data removed]",
      "text/plain": [
       "<Figure size 1080x360 with 1 Axes>"
      ]
     },
     "metadata": {
      "needs_background": "light"
     },
     "output_type": "display_data"
    }
   ],
   "source": [
    "plt.figure(figsize=(15,5))\n",
    "ax = sns.countplot(x = regisapp['COURSE'], data=regisapp)\n",
    "ax.set_xticklabels(ax.get_xticklabels(), rotation=40, ha=\"right\")\n",
    "plt.tight_layout()\n",
    "plt.show()"
   ]
  },
  {
   "cell_type": "code",
   "execution_count": 38,
   "metadata": {
    "scrolled": true
   },
   "outputs": [],
   "source": [
    "regisapp['COURSE'].replace({'FullStack':'Full Stack', 'Python For DataScience':'Python For Data Science'}, inplace = True)"
   ]
  },
  {
   "cell_type": "code",
   "execution_count": 39,
   "metadata": {},
   "outputs": [
    {
     "data": {
      "image/png": "[encoded data removed]",
      "text/plain": [
       "<Figure size 1080x360 with 1 Axes>"
      ]
     },
     "metadata": {
      "needs_background": "light"
     },
     "output_type": "display_data"
    }
   ],
   "source": [
    "plt.figure(figsize=(15,5))\n",
    "ax = sns.countplot(x = regisapp['COURSE'], data=regisapp)\n",
    "ax.set_xticklabels(ax.get_xticklabels(), rotation=40, ha=\"right\")\n",
    "plt.tight_layout()\n",
    "plt.show()"
   ]
  },
  {
   "cell_type": "markdown",
   "metadata": {},
   "source": [
    "### MERGING OF DATA SETS "
   ]
  },
  {
   "cell_type": "code",
   "execution_count": 42,
   "metadata": {
    "scrolled": true
   },
   "outputs": [
    {
     "data": {
      "text/html": [
       "<div>\n",
       "<style scoped>\n",
       "    .dataframe tbody tr th:only-of-type {\n",
       "        vertical-align: middle;\n",
       "    }\n",
       "\n",
       "    .dataframe tbody tr th {\n",
       "        vertical-align: top;\n",
       "    }\n",
       "\n",
       "    .dataframe thead th {\n",
       "        text-align: right;\n",
       "    }\n",
       "</style>\n",
       "<table border=\"1\" class=\"dataframe\">\n",
       "  <thead>\n",
       "    <tr style=\"text-align: right;\">\n",
       "      <th></th>\n",
       "      <th>applicantID</th>\n",
       "      <th>FIRST NAME_x</th>\n",
       "      <th>LAST NAME_x</th>\n",
       "      <th>SOURCE_x</th>\n",
       "      <th>COURSE_x</th>\n",
       "      <th>TRACK_x</th>\n",
       "      <th>GENDER_x</th>\n",
       "      <th>FIRST NAME_y</th>\n",
       "      <th>LAST NAME_y</th>\n",
       "      <th>SOURCE_y</th>\n",
       "      <th>COURSE_y</th>\n",
       "      <th>TRACK_y</th>\n",
       "      <th>GENDER_y</th>\n",
       "    </tr>\n",
       "  </thead>\n",
       "  <tbody>\n",
       "    <tr>\n",
       "      <th>0</th>\n",
       "      <td>1120</td>\n",
       "      <td>Robert</td>\n",
       "      <td>Mccain</td>\n",
       "      <td>WEBSITE</td>\n",
       "      <td>Full Stack</td>\n",
       "      <td>Weekday</td>\n",
       "      <td>Male</td>\n",
       "      <td>Robert</td>\n",
       "      <td>Mccain</td>\n",
       "      <td>WEBSITE</td>\n",
       "      <td>Full Stack</td>\n",
       "      <td>Weekday</td>\n",
       "      <td>Male</td>\n",
       "    </tr>\n",
       "    <tr>\n",
       "      <th>1</th>\n",
       "      <td>2557</td>\n",
       "      <td>Russel</td>\n",
       "      <td>Reagin</td>\n",
       "      <td>Mr Simps</td>\n",
       "      <td>Full Stack</td>\n",
       "      <td>Weekday</td>\n",
       "      <td>Male</td>\n",
       "      <td>Russel</td>\n",
       "      <td>Reagin</td>\n",
       "      <td>Mr Simps</td>\n",
       "      <td>Full Stack</td>\n",
       "      <td>Weekday</td>\n",
       "      <td>Male</td>\n",
       "    </tr>\n",
       "    <tr>\n",
       "      <th>2</th>\n",
       "      <td>1682</td>\n",
       "      <td>Barry</td>\n",
       "      <td>Dickson</td>\n",
       "      <td>WEBSITE</td>\n",
       "      <td>Full Stack</td>\n",
       "      <td>Weekday</td>\n",
       "      <td>Male</td>\n",
       "      <td>Barry</td>\n",
       "      <td>Dickson</td>\n",
       "      <td>WEBSITE</td>\n",
       "      <td>Full Stack</td>\n",
       "      <td>Weekday</td>\n",
       "      <td>Male</td>\n",
       "    </tr>\n",
       "    <tr>\n",
       "      <th>3</th>\n",
       "      <td>1961</td>\n",
       "      <td>Allen</td>\n",
       "      <td>Williams</td>\n",
       "      <td>Mr Simps</td>\n",
       "      <td>NaN</td>\n",
       "      <td>Weekday</td>\n",
       "      <td>Male</td>\n",
       "      <td>Allen</td>\n",
       "      <td>Williams</td>\n",
       "      <td>Mr Simps</td>\n",
       "      <td>NaN</td>\n",
       "      <td>Weekday</td>\n",
       "      <td>Male</td>\n",
       "    </tr>\n",
       "    <tr>\n",
       "      <th>4</th>\n",
       "      <td>295</td>\n",
       "      <td>Brian</td>\n",
       "      <td>Bryon</td>\n",
       "      <td>Social Media</td>\n",
       "      <td>Python For Data Science</td>\n",
       "      <td>Weekend</td>\n",
       "      <td>Male</td>\n",
       "      <td>Brian</td>\n",
       "      <td>Bryon</td>\n",
       "      <td>Social Media</td>\n",
       "      <td>Python For Data Science</td>\n",
       "      <td>Weekend</td>\n",
       "      <td>Male</td>\n",
       "    </tr>\n",
       "  </tbody>\n",
       "</table>\n",
       "</div>"
      ],
      "text/plain": [
       "   applicantID FIRST NAME_x LAST NAME_x      SOURCE_x  \\\n",
       "0         1120       Robert      Mccain       WEBSITE   \n",
       "1         2557       Russel      Reagin      Mr Simps   \n",
       "2         1682        Barry     Dickson       WEBSITE   \n",
       "3         1961        Allen    Williams      Mr Simps   \n",
       "4          295        Brian       Bryon  Social Media   \n",
       "\n",
       "                  COURSE_x  TRACK_x GENDER_x FIRST NAME_y LAST NAME_y  \\\n",
       "0               Full Stack  Weekday     Male       Robert      Mccain   \n",
       "1               Full Stack  Weekday     Male       Russel      Reagin   \n",
       "2               Full Stack  Weekday     Male        Barry     Dickson   \n",
       "3                      NaN  Weekday     Male        Allen    Williams   \n",
       "4  Python For Data Science  Weekend     Male        Brian       Bryon   \n",
       "\n",
       "       SOURCE_y                 COURSE_y  TRACK_y GENDER_y  \n",
       "0       WEBSITE               Full Stack  Weekday     Male  \n",
       "1      Mr Simps               Full Stack  Weekday     Male  \n",
       "2       WEBSITE               Full Stack  Weekday     Male  \n",
       "3      Mr Simps                      NaN  Weekday     Male  \n",
       "4  Social Media  Python For Data Science  Weekend     Male  "
      ]
     },
     "execution_count": 42,
     "metadata": {},
     "output_type": "execute_result"
    }
   ],
   "source": [
    "enrolledapp_and_regisapp = pd.merge(enrolledapp,regisapp,how=\"left\",on='applicantID')\n",
    "enrolledapp_and_regisapp.head()"
   ]
  },
  {
   "cell_type": "code",
   "execution_count": 43,
   "metadata": {
    "scrolled": true
   },
   "outputs": [
    {
     "data": {
      "text/plain": [
       "1766"
      ]
     },
     "execution_count": 43,
     "metadata": {},
     "output_type": "execute_result"
    }
   ],
   "source": [
    "# To check for the number of enrolled and registered gender\n",
    "\n",
    "enrolledappandregisapp = enrolledapp_and_regisapp.GENDER_x.count()\n",
    "enrolledappandregisapp"
   ]
  },
  {
   "cell_type": "code",
   "execution_count": 44,
   "metadata": {
    "scrolled": false
   },
   "outputs": [
    {
     "data": {
      "text/plain": [
       "1623"
      ]
     },
     "execution_count": 44,
     "metadata": {},
     "output_type": "execute_result"
    }
   ],
   "source": [
    "enrolledappandregisapp_Male = enrolledapp_and_regisapp[enrolledapp_and_regisapp.GENDER_x == \"Male\"].GENDER_x.count()\n",
    "enrolledappandregisapp_Male"
   ]
  },
  {
   "cell_type": "code",
   "execution_count": 45,
   "metadata": {},
   "outputs": [
    {
     "data": {
      "text/plain": [
       "143"
      ]
     },
     "execution_count": 45,
     "metadata": {},
     "output_type": "execute_result"
    }
   ],
   "source": [
    "enrolledappandregisapp_Female = enrolledapp_and_regisapp[enrolledapp_and_regisapp.GENDER_x == \"Female\"].GENDER_x.count()\n",
    "enrolledappandregisapp_Female"
   ]
  },
  {
   "cell_type": "markdown",
   "metadata": {},
   "source": [
    "## Using visualization in gleaning out more information "
   ]
  },
  {
   "cell_type": "code",
   "execution_count": 54,
   "metadata": {
    "scrolled": true
   },
   "outputs": [
    {
     "data": {
      "image/png": "[encoded data removed]",
      "text/plain": [
       "<Figure size 1224x720 with 1 Axes>"
      ]
     },
     "metadata": {
      "needs_background": "light"
     },
     "output_type": "display_data"
    }
   ],
   "source": [
    "plt.figure(figsize=(17,10))\n",
    "ax = sns.countplot(x = enrolledapp['TRACK'], data=enrolledapp)\n",
    "ax.set_xticklabels(ax.get_xticklabels(), rotation=40, ha=\"right\")\n",
    "plt.tight_layout()\n",
    "plt.show()"
   ]
  },
  {
   "cell_type": "code",
   "execution_count": 52,
   "metadata": {
    "scrolled": true
   },
   "outputs": [
    {
     "data": {
      "image/png": "[encoded data removed]",
      "text/plain": [
       "<Figure size 1224x504 with 1 Axes>"
      ]
     },
     "metadata": {
      "needs_background": "light"
     },
     "output_type": "display_data"
    }
   ],
   "source": [
    "plt.figure(figsize=(17,7))\n",
    "ax = sns.countplot(x = regisapp['TRACK'], data=regisapp)\n",
    "ax.set_xticklabels(ax.get_xticklabels(), rotation=45, ha=\"right\")\n",
    "plt.tight_layout()\n",
    "plt.show()"
   ]
  },
  {
   "cell_type": "code",
   "execution_count": 51,
   "metadata": {
    "scrolled": true
   },
   "outputs": [
    {
     "data": {
      "image/png": "[encoded data removed]",
      "text/plain": [
       "<Figure size 1224x504 with 1 Axes>"
      ]
     },
     "metadata": {
      "needs_background": "light"
     },
     "output_type": "display_data"
    }
   ],
   "source": [
    "plt.figure(figsize=(17,7))\n",
    "ax = sns.countplot(x = enrolledapp['SOURCE'], data=enrolledapp)\n",
    "ax.set_xticklabels(ax.get_xticklabels(), rotation=35, ha=\"right\")\n",
    "plt.tight_layout()\n",
    "plt.show()"
   ]
  },
  {
   "cell_type": "code",
   "execution_count": 53,
   "metadata": {},
   "outputs": [
    {
     "data": {
      "image/png": "[encoded data removed]",
      "text/plain": [
       "<Figure size 1296x576 with 1 Axes>"
      ]
     },
     "metadata": {
      "needs_background": "light"
     },
     "output_type": "display_data"
    }
   ],
   "source": [
    "plt.figure(figsize=(18,8))\n",
    "ax = sns.countplot(x = regisapp['SOURCE'], data=regisapp)\n",
    "ax.set_xticklabels(ax.get_xticklabels(), rotation=30, ha=\"right\")\n",
    "plt.tight_layout()\n",
    "plt.show()"
   ]
  },
  {
   "cell_type": "markdown",
   "metadata": {},
   "source": [
    "## Probabilities"
   ]
  },
  {
   "cell_type": "code",
   "execution_count": 75,
   "metadata": {},
   "outputs": [],
   "source": [
    "# The probability that registered female applicant may likely be enrolled.\n",
    "\n",
    "nums_female_enrolledapp = enrolledapp['GENDER'][enrolledapp['GENDER'] == 'Female']\n",
    "nums_female_regisapp = regisapp['GENDER'][regisapp['GENDER'] == 'Female']"
   ]
  },
  {
   "cell_type": "code",
   "execution_count": 74,
   "metadata": {
    "scrolled": true
   },
   "outputs": [
    {
     "data": {
      "text/plain": [
       "0.199442119944212"
      ]
     },
     "execution_count": 74,
     "metadata": {},
     "output_type": "execute_result"
    }
   ],
   "source": [
    "prob_of_female = nums_female_enrolledapp.count() / nums_female_regisapp.count()\n",
    "prob_of_female"
   ]
  },
  {
   "cell_type": "code",
   "execution_count": 79,
   "metadata": {},
   "outputs": [],
   "source": [
    "# The probability that registered male applicant may likely be enrolled.\n",
    "\n",
    "nums_male_enrolledapp = enrolledapp['GENDER'][enrolledapp['GENDER'] == 'Male']\n",
    "nums_male_regisapp = regisapp['GENDER'][regisapp['GENDER'] == 'Male']"
   ]
  },
  {
   "cell_type": "code",
   "execution_count": 78,
   "metadata": {},
   "outputs": [
    {
     "data": {
      "text/plain": [
       "0.5590768170857734"
      ]
     },
     "execution_count": 78,
     "metadata": {},
     "output_type": "execute_result"
    }
   ],
   "source": [
    "prob_of_male = nums_male_enrolledapp.count() / nums_male_regisapp.count()\n",
    "prob_of_male"
   ]
  },
  {
   "cell_type": "code",
   "execution_count": 80,
   "metadata": {},
   "outputs": [
    {
     "data": {
      "text/plain": [
       "0.4878453038674033"
      ]
     },
     "execution_count": 80,
     "metadata": {},
     "output_type": "execute_result"
    }
   ],
   "source": [
    "# The probability that anyone regardless of gender can be enrolled.\n",
    "\n",
    "prob_of_anyone = enrolledapp['GENDER'].count() / regisapp['GENDER'].count()\n",
    "prob_of_anyone"
   ]
  },
  {
   "cell_type": "markdown",
   "metadata": {},
   "source": [
    "## OBSERVATIONS AND CONCLUSION\n",
    "\n",
    "1. THERE WAS MORE MALE APPLICANTS THAN COMPARED WITH THE FEMALE COUNTER PART.\n",
    "2. FROM THE DATA SHOWN MORE MEN ARE DRAWN INTO THE TECHY WORLD.\n",
    "3. MORE APPLICANTS REGISTERED AND GOT ENROLLED FOR THE COURSES ON WEEKDAYS.\n",
    "4. WE HAD MORE APPLICANTS INTERESTED IN FULLSTACK.\n",
    "5. GREAT % OF APPLICANTS GOT WIND OF INFO FROM SOCIAL MEDIA.\n",
    "6. REGARDLESS OF GENDER, WOMEN COULD ALSO HAVE EQUAL OPPORTUNITY AS MEN IN BEING ENROLLED.\n",
    "7. WOMEN SHOULD BE ENCOURAGED IN ENROLLING FOR TECHY COURSES AS THERE'S EQUAL OPPORTUNITY FOR ALL."
   ]
  },
  {
   "cell_type": "code",
   "execution_count": null,
   "metadata": {},
   "outputs": [],
   "source": []
  }
 ],
 "metadata": {
  "kernelspec": {
   "display_name": "Python 3",
   "language": "python",
   "name": "python3"
  },
  "language_info": {
   "codemirror_mode": {
    "name": "ipython",
    "version": 3
   },
   "file_extension": ".py",
   "mimetype": "text/x-python",
   "name": "python",
   "nbconvert_exporter": "python",
   "pygments_lexer": "ipython3",
   "version": "3.7.8"
  }
 },
 "nbformat": 4,
 "nbformat_minor": 4
}
