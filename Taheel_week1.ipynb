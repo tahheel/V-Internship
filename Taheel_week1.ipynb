{
 "cells": [
  {
   "cell_type": "markdown",
   "metadata": {},
   "source": [
    "# VIRTUAL INTERNSHIP(WEEK1)"
   ]
  },
  {
   "cell_type": "code",
   "execution_count": 83,
   "metadata": {},
   "outputs": [],
   "source": [
    "#importing all the necessary resource\n",
    "\n",
    "import datetime as dt\n",
    "import pandas as pd\n",
    "import numpy as np\n",
    "from matplotlib import pyplot as plt\n",
    "import seaborn as sns"
   ]
  },
  {
   "cell_type": "markdown",
   "metadata": {},
   "source": [
    "# DATA WRANGLING FOR ENROLLED APPLICANTS"
   ]
  },
  {
   "cell_type": "code",
   "execution_count": 2,
   "metadata": {
    "scrolled": false
   },
   "outputs": [
    {
     "data": {
      "text/html": [
       "<div>\n",
       "<style scoped>\n",
       "    .dataframe tbody tr th:only-of-type {\n",
       "        vertical-align: middle;\n",
       "    }\n",
       "\n",
       "    .dataframe tbody tr th {\n",
       "        vertical-align: top;\n",
       "    }\n",
       "\n",
       "    .dataframe thead th {\n",
       "        text-align: right;\n",
       "    }\n",
       "</style>\n",
       "<table border=\"1\" class=\"dataframe\">\n",
       "  <thead>\n",
       "    <tr style=\"text-align: right;\">\n",
       "      <th></th>\n",
       "      <th>Unnamed: 0</th>\n",
       "      <th>FIRST NAME</th>\n",
       "      <th>LAST NAME</th>\n",
       "      <th>SOURCE</th>\n",
       "      <th>COURSE</th>\n",
       "      <th>TRACK</th>\n",
       "      <th>GENDER</th>\n",
       "    </tr>\n",
       "  </thead>\n",
       "  <tbody>\n",
       "    <tr>\n",
       "      <th>1761</th>\n",
       "      <td>2020</td>\n",
       "      <td>Edward</td>\n",
       "      <td>Johnston</td>\n",
       "      <td>WEBSITE</td>\n",
       "      <td>Backend With Python Django</td>\n",
       "      <td>Weekday</td>\n",
       "      <td>Male</td>\n",
       "    </tr>\n",
       "    <tr>\n",
       "      <th>1762</th>\n",
       "      <td>1295</td>\n",
       "      <td>Brian</td>\n",
       "      <td>Hargrove</td>\n",
       "      <td>Social Media</td>\n",
       "      <td>Full Stack</td>\n",
       "      <td>Weekday</td>\n",
       "      <td>Male</td>\n",
       "    </tr>\n",
       "    <tr>\n",
       "      <th>1763</th>\n",
       "      <td>2827</td>\n",
       "      <td>Grady</td>\n",
       "      <td>Sullens</td>\n",
       "      <td>Social Media</td>\n",
       "      <td>Frontend Web Development</td>\n",
       "      <td>ONLINE</td>\n",
       "      <td>Male</td>\n",
       "    </tr>\n",
       "    <tr>\n",
       "      <th>1764</th>\n",
       "      <td>1894</td>\n",
       "      <td>Felipe</td>\n",
       "      <td>Fassino</td>\n",
       "      <td>Social Media</td>\n",
       "      <td>Figma Design to Webflow</td>\n",
       "      <td>Weekday</td>\n",
       "      <td>Male</td>\n",
       "    </tr>\n",
       "    <tr>\n",
       "      <th>1765</th>\n",
       "      <td>1662</td>\n",
       "      <td>John</td>\n",
       "      <td>Easley</td>\n",
       "      <td>Social Media</td>\n",
       "      <td>Python For DataScience</td>\n",
       "      <td>ONLINE</td>\n",
       "      <td>Male</td>\n",
       "    </tr>\n",
       "  </tbody>\n",
       "</table>\n",
       "</div>"
      ],
      "text/plain": [
       "      Unnamed: 0 FIRST NAME LAST NAME        SOURCE  \\\n",
       "1761        2020     Edward  Johnston       WEBSITE   \n",
       "1762        1295      Brian  Hargrove  Social Media   \n",
       "1763        2827      Grady   Sullens  Social Media   \n",
       "1764        1894     Felipe   Fassino  Social Media   \n",
       "1765        1662       John    Easley  Social Media   \n",
       "\n",
       "                          COURSE    TRACK GENDER  \n",
       "1761  Backend With Python Django  Weekday   Male  \n",
       "1762                  Full Stack  Weekday   Male  \n",
       "1763    Frontend Web Development   ONLINE   Male  \n",
       "1764     Figma Design to Webflow  Weekday   Male  \n",
       "1765      Python For DataScience   ONLINE   Male  "
      ]
     },
     "execution_count": 2,
     "metadata": {},
     "output_type": "execute_result"
    }
   ],
   "source": [
    "enrolledapp = pd.read_csv('C:/Users/TAHIR/Desktop/Revised v-internship/enrolled_applicants.csv')\n",
    "enrolledapp.tail()"
   ]
  },
  {
   "cell_type": "code",
   "execution_count": 3,
   "metadata": {
    "scrolled": false
   },
   "outputs": [
    {
     "data": {
      "text/plain": [
       "<bound method NDFrame.describe of       Unnamed: 0 FIRST NAME LAST NAME        SOURCE  \\\n",
       "0           1120     Robert    Mccain       WEBSITE   \n",
       "1           2557     Russel    Reagin      Mr Simps   \n",
       "2           1682      Barry   Dickson       WEBSITE   \n",
       "3           1961      Allen  Williams      Mr Simps   \n",
       "4            295      Brian     Bryon  Social Media   \n",
       "...          ...        ...       ...           ...   \n",
       "1761        2020     Edward  Johnston       WEBSITE   \n",
       "1762        1295      Brian  Hargrove  Social Media   \n",
       "1763        2827      Grady   Sullens  Social Media   \n",
       "1764        1894     Felipe   Fassino  Social Media   \n",
       "1765        1662       John    Easley  Social Media   \n",
       "\n",
       "                          COURSE    TRACK GENDER  \n",
       "0                     Full Stack  Weekday   Male  \n",
       "1                     Full Stack  Weekday   Male  \n",
       "2                     Full Stack  Weekday   Male  \n",
       "3                            NaN  Weekday   Male  \n",
       "4        Python For Data Science  Weekend   Male  \n",
       "...                          ...      ...    ...  \n",
       "1761  Backend With Python Django  Weekday   Male  \n",
       "1762                  Full Stack  Weekday   Male  \n",
       "1763    Frontend Web Development   ONLINE   Male  \n",
       "1764     Figma Design to Webflow  Weekday   Male  \n",
       "1765      Python For DataScience   ONLINE   Male  \n",
       "\n",
       "[1766 rows x 7 columns]>"
      ]
     },
     "execution_count": 3,
     "metadata": {},
     "output_type": "execute_result"
    }
   ],
   "source": [
    "enrolledapp.describe"
   ]
  },
  {
   "cell_type": "code",
   "execution_count": 4,
   "metadata": {
    "scrolled": true
   },
   "outputs": [
    {
     "data": {
      "text/html": [
       "<div>\n",
       "<style scoped>\n",
       "    .dataframe tbody tr th:only-of-type {\n",
       "        vertical-align: middle;\n",
       "    }\n",
       "\n",
       "    .dataframe tbody tr th {\n",
       "        vertical-align: top;\n",
       "    }\n",
       "\n",
       "    .dataframe thead th {\n",
       "        text-align: right;\n",
       "    }\n",
       "</style>\n",
       "<table border=\"1\" class=\"dataframe\">\n",
       "  <thead>\n",
       "    <tr style=\"text-align: right;\">\n",
       "      <th></th>\n",
       "      <th>applicantID</th>\n",
       "      <th>FIRST NAME</th>\n",
       "      <th>LAST NAME</th>\n",
       "      <th>SOURCE</th>\n",
       "      <th>COURSE</th>\n",
       "      <th>TRACK</th>\n",
       "      <th>GENDER</th>\n",
       "    </tr>\n",
       "  </thead>\n",
       "  <tbody>\n",
       "    <tr>\n",
       "      <th>0</th>\n",
       "      <td>1120</td>\n",
       "      <td>Robert</td>\n",
       "      <td>Mccain</td>\n",
       "      <td>WEBSITE</td>\n",
       "      <td>Full Stack</td>\n",
       "      <td>Weekday</td>\n",
       "      <td>Male</td>\n",
       "    </tr>\n",
       "    <tr>\n",
       "      <th>1</th>\n",
       "      <td>2557</td>\n",
       "      <td>Russel</td>\n",
       "      <td>Reagin</td>\n",
       "      <td>Mr Simps</td>\n",
       "      <td>Full Stack</td>\n",
       "      <td>Weekday</td>\n",
       "      <td>Male</td>\n",
       "    </tr>\n",
       "    <tr>\n",
       "      <th>2</th>\n",
       "      <td>1682</td>\n",
       "      <td>Barry</td>\n",
       "      <td>Dickson</td>\n",
       "      <td>WEBSITE</td>\n",
       "      <td>Full Stack</td>\n",
       "      <td>Weekday</td>\n",
       "      <td>Male</td>\n",
       "    </tr>\n",
       "    <tr>\n",
       "      <th>3</th>\n",
       "      <td>1961</td>\n",
       "      <td>Allen</td>\n",
       "      <td>Williams</td>\n",
       "      <td>Mr Simps</td>\n",
       "      <td>NaN</td>\n",
       "      <td>Weekday</td>\n",
       "      <td>Male</td>\n",
       "    </tr>\n",
       "    <tr>\n",
       "      <th>4</th>\n",
       "      <td>295</td>\n",
       "      <td>Brian</td>\n",
       "      <td>Bryon</td>\n",
       "      <td>Social Media</td>\n",
       "      <td>Python For Data Science</td>\n",
       "      <td>Weekend</td>\n",
       "      <td>Male</td>\n",
       "    </tr>\n",
       "  </tbody>\n",
       "</table>\n",
       "</div>"
      ],
      "text/plain": [
       "   applicantID FIRST NAME LAST NAME        SOURCE                   COURSE  \\\n",
       "0         1120     Robert    Mccain       WEBSITE               Full Stack   \n",
       "1         2557     Russel    Reagin      Mr Simps               Full Stack   \n",
       "2         1682      Barry   Dickson       WEBSITE               Full Stack   \n",
       "3         1961      Allen  Williams      Mr Simps                      NaN   \n",
       "4          295      Brian     Bryon  Social Media  Python For Data Science   \n",
       "\n",
       "     TRACK GENDER  \n",
       "0  Weekday   Male  \n",
       "1  Weekday   Male  \n",
       "2  Weekday   Male  \n",
       "3  Weekday   Male  \n",
       "4  Weekend   Male  "
      ]
     },
     "execution_count": 4,
     "metadata": {},
     "output_type": "execute_result"
    }
   ],
   "source": [
    "# RENAMING THE FIRST COLUMN TO APPLICANT ID\n",
    "\n",
    "\n",
    "enrolledapp = enrolledapp.rename(columns = {\"Unnamed: 0\":\"applicantID\"})\n",
    "enrolledapp.head()"
   ]
  },
  {
   "cell_type": "code",
   "execution_count": 5,
   "metadata": {
    "scrolled": true
   },
   "outputs": [
    {
     "data": {
      "text/plain": [
       "Male      1611\n",
       "Female     142\n",
       "male        12\n",
       "female       1\n",
       "Name: GENDER, dtype: int64"
      ]
     },
     "execution_count": 5,
     "metadata": {},
     "output_type": "execute_result"
    }
   ],
   "source": [
    "enrolledapp['GENDER'].value_counts()"
   ]
  },
  {
   "cell_type": "code",
   "execution_count": 6,
   "metadata": {
    "scrolled": false
   },
   "outputs": [
    {
     "data": {
      "text/plain": [
       "Social Media    1096\n",
       "WEBSITE          436\n",
       "Mr Simps         222\n",
       "Name: SOURCE, dtype: int64"
      ]
     },
     "execution_count": 6,
     "metadata": {},
     "output_type": "execute_result"
    }
   ],
   "source": [
    "enrolledapp['SOURCE'].value_counts()"
   ]
  },
  {
   "cell_type": "code",
   "execution_count": 7,
   "metadata": {
    "scrolled": false
   },
   "outputs": [
    {
     "data": {
      "text/plain": [
       "Weekday    1131\n",
       "Weekend     406\n",
       "ONLINE      229\n",
       "Name: TRACK, dtype: int64"
      ]
     },
     "execution_count": 7,
     "metadata": {},
     "output_type": "execute_result"
    }
   ],
   "source": [
    "enrolledapp['TRACK'].value_counts()"
   ]
  },
  {
   "cell_type": "code",
   "execution_count": 8,
   "metadata": {
    "scrolled": false
   },
   "outputs": [
    {
     "data": {
      "text/plain": [
       "Full Stack                      310\n",
       "FullStack                       298\n",
       "Product Design(UI/UX)           124\n",
       "Figma Design to Webflow         122\n",
       "Frontend Web Development        121\n",
       "Product Design(UI/UX) ONLINE    112\n",
       "Python For DataScience          102\n",
       "Product Design                  100\n",
       "CyberSecurity                    97\n",
       "Product Management               93\n",
       "Backend With Python Django       92\n",
       "Frontend                         88\n",
       "Python For Data Science          82\n",
       "Name: COURSE, dtype: int64"
      ]
     },
     "execution_count": 8,
     "metadata": {},
     "output_type": "execute_result"
    }
   ],
   "source": [
    "enrolledapp['COURSE'].value_counts()"
   ]
  },
  {
   "cell_type": "code",
   "execution_count": 9,
   "metadata": {
    "scrolled": true
   },
   "outputs": [
    {
     "data": {
      "text/plain": [
       "1766"
      ]
     },
     "execution_count": 9,
     "metadata": {},
     "output_type": "execute_result"
    }
   ],
   "source": [
    "len(enrolledapp)"
   ]
  },
  {
   "cell_type": "code",
   "execution_count": 10,
   "metadata": {
    "scrolled": true
   },
   "outputs": [
    {
     "data": {
      "text/plain": [
       "Male      1623\n",
       "Female     143\n",
       "Name: GENDER, dtype: int64"
      ]
     },
     "execution_count": 10,
     "metadata": {},
     "output_type": "execute_result"
    }
   ],
   "source": [
    "# Replace all gender with small letters to capital letters\n",
    "\n",
    "\n",
    "enrolledapp[\"GENDER\"] = enrolledapp[\"GENDER\"].apply(lambda x: x.capitalize())\n",
    "enrolledapp[\"GENDER\"].value_counts()\n",
    "\n",
    "\n"
   ]
  },
  {
   "cell_type": "code",
   "execution_count": 11,
   "metadata": {
    "scrolled": false
   },
   "outputs": [
    {
     "data": {
      "text/plain": [
       "array(['Full Stack', nan, 'Python For Data Science', 'FullStack',\n",
       "       'Product Design(UI/UX)', 'Product Management', 'Frontend',\n",
       "       'Frontend Web Development', 'Figma Design to Webflow',\n",
       "       'Product Design(UI/UX) ONLINE', 'Product Design',\n",
       "       'Backend With Python Django', 'CyberSecurity',\n",
       "       'Python For DataScience'], dtype=object)"
      ]
     },
     "execution_count": 11,
     "metadata": {},
     "output_type": "execute_result"
    }
   ],
   "source": [
    "enrolledapp['COURSE'].unique()"
   ]
  },
  {
   "cell_type": "code",
   "execution_count": 12,
   "metadata": {},
   "outputs": [
    {
     "data": {
      "text/plain": [
       "applicantID    0\n",
       "FIRST NAME     0\n",
       "LAST NAME      0\n",
       "SOURCE         0\n",
       "COURSE         0\n",
       "TRACK          0\n",
       "GENDER         0\n",
       "dtype: int64"
      ]
     },
     "execution_count": 12,
     "metadata": {},
     "output_type": "execute_result"
    }
   ],
   "source": [
    "# Checking for null value in enrolled applicants.\n",
    "\n",
    "nums_of_enrolledapp_null_GENDER = enrolledapp[enrolledapp.GENDER.isnull()]\n",
    "nums_of_enrolledapp_null_GENDER.count()"
   ]
  },
  {
   "cell_type": "code",
   "execution_count": 13,
   "metadata": {
    "scrolled": false
   },
   "outputs": [
    {
     "data": {
      "image/png": "[encoded data removed]",
      "text/plain": [
       "<Figure size 432x288 with 1 Axes>"
      ]
     },
     "metadata": {
      "needs_background": "light"
     },
     "output_type": "display_data"
    }
   ],
   "source": [
    "# Visualization of enrolled 'gender' data in the file.  \n",
    "fig, ax = plt.subplots()  \n",
    "x = enrolledapp.GENDER.unique()    \n",
    "y = enrolledapp.GENDER.value_counts()    \n",
    "ax.bar(x, y)  \n",
    "ax.set_xlabel('Gender')  \n",
    "ax.set_ylabel('Nos of enrolled applicants') \n",
    "plt.show()\n"
   ]
  },
  {
   "cell_type": "code",
   "execution_count": 14,
   "metadata": {},
   "outputs": [],
   "source": [
    "# To solve for where Fullstack and Python for data science appeared twice\n",
    "\n",
    "enrolledapp['COURSE'].replace({'FullStack':'Full Stack', 'Python For DataScience':'Python For Data Science','Frontend':'Frontend Web Development','Product Design':'Product Design(UI/UX)'}, inplace = True)\n",
    " \n",
    "\n"
   ]
  },
  {
   "cell_type": "code",
   "execution_count": 15,
   "metadata": {
    "scrolled": true
   },
   "outputs": [
    {
     "data": {
      "image/png": "[encoded data removed]",
      "text/plain": [
       "<Figure size 864x360 with 1 Axes>"
      ]
     },
     "metadata": {
      "needs_background": "light"
     },
     "output_type": "display_data"
    }
   ],
   "source": [
    "plt.figure(figsize=(12,5))\n",
    "ax = sns.countplot(x = enrolledapp['COURSE'], data=enrolledapp)\n",
    "ax.set_xticklabels(ax.get_xticklabels(), rotation=40, ha=\"right\")\n",
    "plt.tight_layout()\n",
    "plt.show()\n"
   ]
  },
  {
   "cell_type": "markdown",
   "metadata": {},
   "source": [
    "# DATA WRANGLING FOR REGISTERED APPLICANTS"
   ]
  },
  {
   "cell_type": "code",
   "execution_count": 16,
   "metadata": {},
   "outputs": [
    {
     "data": {
      "text/html": [
       "<div>\n",
       "<style scoped>\n",
       "    .dataframe tbody tr th:only-of-type {\n",
       "        vertical-align: middle;\n",
       "    }\n",
       "\n",
       "    .dataframe tbody tr th {\n",
       "        vertical-align: top;\n",
       "    }\n",
       "\n",
       "    .dataframe thead th {\n",
       "        text-align: right;\n",
       "    }\n",
       "</style>\n",
       "<table border=\"1\" class=\"dataframe\">\n",
       "  <thead>\n",
       "    <tr style=\"text-align: right;\">\n",
       "      <th></th>\n",
       "      <th>Unnamed: 0</th>\n",
       "      <th>FIRST NAME</th>\n",
       "      <th>LAST NAME</th>\n",
       "      <th>SOURCE</th>\n",
       "      <th>COURSE</th>\n",
       "      <th>TRACK</th>\n",
       "      <th>GENDER</th>\n",
       "    </tr>\n",
       "  </thead>\n",
       "  <tbody>\n",
       "    <tr>\n",
       "      <th>0</th>\n",
       "      <td>2373</td>\n",
       "      <td>Brian</td>\n",
       "      <td>May</td>\n",
       "      <td>Social Media</td>\n",
       "      <td>Python For DataScience</td>\n",
       "      <td>Weekend</td>\n",
       "      <td>Male</td>\n",
       "    </tr>\n",
       "    <tr>\n",
       "      <th>1</th>\n",
       "      <td>758</td>\n",
       "      <td>Leon</td>\n",
       "      <td>Melvin</td>\n",
       "      <td>Social Media</td>\n",
       "      <td>Product Design(UI/UX)</td>\n",
       "      <td>Weekend</td>\n",
       "      <td>Male</td>\n",
       "    </tr>\n",
       "    <tr>\n",
       "      <th>2</th>\n",
       "      <td>2287</td>\n",
       "      <td>Juan</td>\n",
       "      <td>Harris</td>\n",
       "      <td>Mr Simps</td>\n",
       "      <td>Product Design(UI/UX)</td>\n",
       "      <td>Weekday</td>\n",
       "      <td>Male</td>\n",
       "    </tr>\n",
       "    <tr>\n",
       "      <th>3</th>\n",
       "      <td>2480</td>\n",
       "      <td>Gilbert</td>\n",
       "      <td>Denson</td>\n",
       "      <td>Social Media</td>\n",
       "      <td>Figma Design to Webflow</td>\n",
       "      <td>Weekend</td>\n",
       "      <td>Male</td>\n",
       "    </tr>\n",
       "    <tr>\n",
       "      <th>4</th>\n",
       "      <td>1359</td>\n",
       "      <td>Larry</td>\n",
       "      <td>Williams</td>\n",
       "      <td>WEBSITE</td>\n",
       "      <td>Python For DataScience</td>\n",
       "      <td>Weekday</td>\n",
       "      <td>Male</td>\n",
       "    </tr>\n",
       "  </tbody>\n",
       "</table>\n",
       "</div>"
      ],
      "text/plain": [
       "   Unnamed: 0 FIRST NAME LAST NAME        SOURCE                   COURSE  \\\n",
       "0        2373      Brian       May  Social Media   Python For DataScience   \n",
       "1         758       Leon    Melvin  Social Media    Product Design(UI/UX)   \n",
       "2        2287       Juan    Harris      Mr Simps    Product Design(UI/UX)   \n",
       "3        2480    Gilbert    Denson  Social Media  Figma Design to Webflow   \n",
       "4        1359      Larry  Williams       WEBSITE   Python For DataScience   \n",
       "\n",
       "     TRACK GENDER  \n",
       "0  Weekend   Male  \n",
       "1  Weekend   Male  \n",
       "2  Weekday   Male  \n",
       "3  Weekend   Male  \n",
       "4  Weekday   Male  "
      ]
     },
     "execution_count": 16,
     "metadata": {},
     "output_type": "execute_result"
    }
   ],
   "source": [
    "regisapp = pd.read_csv('C:/Users/TAHIR/Desktop/Revised v-internship/registered_applicants.csv')\n",
    "regisapp.head()"
   ]
  },
  {
   "cell_type": "code",
   "execution_count": 17,
   "metadata": {
    "scrolled": false
   },
   "outputs": [
    {
     "data": {
      "text/html": [
       "<div>\n",
       "<style scoped>\n",
       "    .dataframe tbody tr th:only-of-type {\n",
       "        vertical-align: middle;\n",
       "    }\n",
       "\n",
       "    .dataframe tbody tr th {\n",
       "        vertical-align: top;\n",
       "    }\n",
       "\n",
       "    .dataframe thead th {\n",
       "        text-align: right;\n",
       "    }\n",
       "</style>\n",
       "<table border=\"1\" class=\"dataframe\">\n",
       "  <thead>\n",
       "    <tr style=\"text-align: right;\">\n",
       "      <th></th>\n",
       "      <th>applicantID</th>\n",
       "      <th>FIRST NAME</th>\n",
       "      <th>LAST NAME</th>\n",
       "      <th>SOURCE</th>\n",
       "      <th>COURSE</th>\n",
       "      <th>TRACK</th>\n",
       "      <th>GENDER</th>\n",
       "    </tr>\n",
       "  </thead>\n",
       "  <tbody>\n",
       "    <tr>\n",
       "      <th>0</th>\n",
       "      <td>2373</td>\n",
       "      <td>Brian</td>\n",
       "      <td>May</td>\n",
       "      <td>Social Media</td>\n",
       "      <td>Python For DataScience</td>\n",
       "      <td>Weekend</td>\n",
       "      <td>Male</td>\n",
       "    </tr>\n",
       "    <tr>\n",
       "      <th>1</th>\n",
       "      <td>758</td>\n",
       "      <td>Leon</td>\n",
       "      <td>Melvin</td>\n",
       "      <td>Social Media</td>\n",
       "      <td>Product Design(UI/UX)</td>\n",
       "      <td>Weekend</td>\n",
       "      <td>Male</td>\n",
       "    </tr>\n",
       "    <tr>\n",
       "      <th>2</th>\n",
       "      <td>2287</td>\n",
       "      <td>Juan</td>\n",
       "      <td>Harris</td>\n",
       "      <td>Mr Simps</td>\n",
       "      <td>Product Design(UI/UX)</td>\n",
       "      <td>Weekday</td>\n",
       "      <td>Male</td>\n",
       "    </tr>\n",
       "    <tr>\n",
       "      <th>3</th>\n",
       "      <td>2480</td>\n",
       "      <td>Gilbert</td>\n",
       "      <td>Denson</td>\n",
       "      <td>Social Media</td>\n",
       "      <td>Figma Design to Webflow</td>\n",
       "      <td>Weekend</td>\n",
       "      <td>Male</td>\n",
       "    </tr>\n",
       "    <tr>\n",
       "      <th>4</th>\n",
       "      <td>1359</td>\n",
       "      <td>Larry</td>\n",
       "      <td>Williams</td>\n",
       "      <td>WEBSITE</td>\n",
       "      <td>Python For DataScience</td>\n",
       "      <td>Weekday</td>\n",
       "      <td>Male</td>\n",
       "    </tr>\n",
       "  </tbody>\n",
       "</table>\n",
       "</div>"
      ],
      "text/plain": [
       "   applicantID FIRST NAME LAST NAME        SOURCE                   COURSE  \\\n",
       "0         2373      Brian       May  Social Media   Python For DataScience   \n",
       "1          758       Leon    Melvin  Social Media    Product Design(UI/UX)   \n",
       "2         2287       Juan    Harris      Mr Simps    Product Design(UI/UX)   \n",
       "3         2480    Gilbert    Denson  Social Media  Figma Design to Webflow   \n",
       "4         1359      Larry  Williams       WEBSITE   Python For DataScience   \n",
       "\n",
       "     TRACK GENDER  \n",
       "0  Weekend   Male  \n",
       "1  Weekend   Male  \n",
       "2  Weekday   Male  \n",
       "3  Weekend   Male  \n",
       "4  Weekday   Male  "
      ]
     },
     "execution_count": 17,
     "metadata": {},
     "output_type": "execute_result"
    }
   ],
   "source": [
    "#RENAMING THE FIRST COLUMN TO APPLICANTS ID\n",
    "regisapp = regisapp.rename(columns = {\"Unnamed: 0\":\"applicantID\"})\n",
    "regisapp.head()\n"
   ]
  },
  {
   "cell_type": "code",
   "execution_count": 18,
   "metadata": {
    "scrolled": true
   },
   "outputs": [
    {
     "data": {
      "text/plain": [
       "<bound method NDFrame.describe of       applicantID FIRST NAME LAST NAME        SOURCE                   COURSE  \\\n",
       "0            2373      Brian       May  Social Media   Python For DataScience   \n",
       "1             758       Leon    Melvin  Social Media    Product Design(UI/UX)   \n",
       "2            2287       Juan    Harris      Mr Simps    Product Design(UI/UX)   \n",
       "3            2480    Gilbert    Denson  Social Media  Figma Design to Webflow   \n",
       "4            1359      Larry  Williams       WEBSITE   Python For DataScience   \n",
       "...           ...        ...       ...           ...                      ...   \n",
       "3671         1990     Donald      Peno  Social Media  Python For Data Science   \n",
       "3672          245    Patrick      Azar      Mr Simps               Full Stack   \n",
       "3673         2548      Billy     Jones       WEBSITE               Full Stack   \n",
       "3674         2162       Luis    Tellez  Social Media               Full Stack   \n",
       "3675         3190      Ethel   Labonte  Social Media                FullStack   \n",
       "\n",
       "        TRACK  GENDER  \n",
       "0     Weekend    Male  \n",
       "1     Weekend    Male  \n",
       "2     Weekday    Male  \n",
       "3     Weekend    Male  \n",
       "4     Weekday    Male  \n",
       "...       ...     ...  \n",
       "3671  Weekday    Male  \n",
       "3672  Weekday    Male  \n",
       "3673   ONLINE    Male  \n",
       "3674  Weekday    Male  \n",
       "3675  Weekday  Female  \n",
       "\n",
       "[3676 rows x 7 columns]>"
      ]
     },
     "execution_count": 18,
     "metadata": {},
     "output_type": "execute_result"
    }
   ],
   "source": [
    "regisapp.describe"
   ]
  },
  {
   "cell_type": "code",
   "execution_count": 19,
   "metadata": {
    "scrolled": true
   },
   "outputs": [
    {
     "data": {
      "text/plain": [
       "Male      2883\n",
       "Female     713\n",
       "male        20\n",
       "female       4\n",
       "Name: GENDER, dtype: int64"
      ]
     },
     "execution_count": 19,
     "metadata": {},
     "output_type": "execute_result"
    }
   ],
   "source": [
    "# checking for the unique values in the gender column\n",
    "\n",
    "regisapp['GENDER'].value_counts()"
   ]
  },
  {
   "cell_type": "code",
   "execution_count": 20,
   "metadata": {
    "scrolled": true
   },
   "outputs": [
    {
     "data": {
      "text/plain": [
       "array(['Male', 'Female', nan, 'male', 'female'], dtype=object)"
      ]
     },
     "execution_count": 20,
     "metadata": {},
     "output_type": "execute_result"
    }
   ],
   "source": [
    "regisapp['GENDER'].unique()"
   ]
  },
  {
   "cell_type": "code",
   "execution_count": 21,
   "metadata": {
    "scrolled": true
   },
   "outputs": [
    {
     "data": {
      "text/plain": [
       "array(['Male', 'Female', nan], dtype=object)"
      ]
     },
     "execution_count": 21,
     "metadata": {},
     "output_type": "execute_result"
    }
   ],
   "source": [
    "# Replacing all values of small letters to capital letters in gender\n",
    "\n",
    "regisapp.GENDER = regisapp.GENDER.replace(['male','female'], ['Male','Female'])\n",
    "regisapp.GENDER.unique()\n"
   ]
  },
  {
   "cell_type": "code",
   "execution_count": 22,
   "metadata": {},
   "outputs": [
    {
     "data": {
      "text/plain": [
       "3676"
      ]
     },
     "execution_count": 22,
     "metadata": {},
     "output_type": "execute_result"
    }
   ],
   "source": [
    "# Finding out the nums of registered applicants\n",
    "\n",
    "nums_of_regisapp = regisapp.applicantID.count()\n",
    "nums_of_regisapp"
   ]
  },
  {
   "cell_type": "code",
   "execution_count": 23,
   "metadata": {},
   "outputs": [
    {
     "data": {
      "text/plain": [
       "2903"
      ]
     },
     "execution_count": 23,
     "metadata": {},
     "output_type": "execute_result"
    }
   ],
   "source": [
    "# finding out the nums of registered male applicants\n",
    "\n",
    "nums_of_regis_male_applicant = regisapp[regisapp.GENDER == 'Male'].GENDER.count()\n",
    "nums_of_regis_male_applicant"
   ]
  },
  {
   "cell_type": "code",
   "execution_count": 24,
   "metadata": {},
   "outputs": [
    {
     "data": {
      "text/plain": [
       "717"
      ]
     },
     "execution_count": 24,
     "metadata": {},
     "output_type": "execute_result"
    }
   ],
   "source": [
    "# Check for nums of female applicants\n",
    "nums_of_regis_female_applicant = regisapp[regisapp.GENDER == 'Female'].GENDER.count()\n",
    "nums_of_regis_female_applicant\n"
   ]
  },
  {
   "cell_type": "code",
   "execution_count": 25,
   "metadata": {
    "scrolled": false
   },
   "outputs": [
    {
     "data": {
      "text/plain": [
       "applicantID    56\n",
       "FIRST NAME     56\n",
       "LAST NAME      56\n",
       "SOURCE         56\n",
       "COURSE         56\n",
       "TRACK          56\n",
       "GENDER          0\n",
       "dtype: int64"
      ]
     },
     "execution_count": 25,
     "metadata": {},
     "output_type": "execute_result"
    }
   ],
   "source": [
    "# Checking for registered applicants with null value\n",
    "\n",
    "nums_of_regisapp_null_GENDER = regisapp[regisapp.GENDER.isnull()]\n",
    "nums_of_regisapp_null_GENDER.count()"
   ]
  },
  {
   "cell_type": "code",
   "execution_count": 26,
   "metadata": {
    "scrolled": true
   },
   "outputs": [
    {
     "data": {
      "text/plain": [
       "<AxesSubplot:xlabel='GENDER', ylabel='count'>"
      ]
     },
     "execution_count": 26,
     "metadata": {},
     "output_type": "execute_result"
    },
    {
     "data": {
      "image/png": "[encoded data removed]",
      "text/plain": [
       "<Figure size 432x288 with 1 Axes>"
      ]
     },
     "metadata": {
      "needs_background": "light"
     },
     "output_type": "display_data"
    }
   ],
   "source": [
    "# Visualization of registered 'gender' data in the file\n",
    "\n",
    "sns.countplot(x = regisapp['GENDER'], data=regisapp)"
   ]
  },
  {
   "cell_type": "code",
   "execution_count": 27,
   "metadata": {
    "scrolled": true
   },
   "outputs": [
    {
     "data": {
      "image/png": "[encoded data removed]",
      "text/plain": [
       "<Figure size 1080x360 with 1 Axes>"
      ]
     },
     "metadata": {
      "needs_background": "light"
     },
     "output_type": "display_data"
    }
   ],
   "source": [
    "plt.figure(figsize=(15,5))\n",
    "ax = sns.countplot(x = regisapp['COURSE'], data=regisapp)\n",
    "ax.set_xticklabels(ax.get_xticklabels(), rotation=40, ha=\"right\")\n",
    "plt.tight_layout()\n",
    "plt.show()"
   ]
  },
  {
   "cell_type": "code",
   "execution_count": 28,
   "metadata": {
    "scrolled": true
   },
   "outputs": [],
   "source": [
    "regisapp['COURSE'].replace({'FullStack':'Full Stack', 'Python For DataScience':'Python For Data Science','Frontend':'Frontend Web Development','Product Design':'Product Design(UI/UX)'}, inplace = True)"
   ]
  },
  {
   "cell_type": "code",
   "execution_count": 29,
   "metadata": {},
   "outputs": [
    {
     "data": {
      "image/png": "[encoded data removed]",
      "text/plain": [
       "<Figure size 1080x360 with 1 Axes>"
      ]
     },
     "metadata": {
      "needs_background": "light"
     },
     "output_type": "display_data"
    }
   ],
   "source": [
    "plt.figure(figsize=(15,5))\n",
    "ax = sns.countplot(x = regisapp['COURSE'], data=regisapp)\n",
    "ax.set_xticklabels(ax.get_xticklabels(), rotation=40, ha=\"right\")\n",
    "plt.tight_layout()\n",
    "plt.show()"
   ]
  },
  {
   "cell_type": "markdown",
   "metadata": {},
   "source": [
    "### MERGING OF DATA SETS "
   ]
  },
  {
   "cell_type": "code",
   "execution_count": 30,
   "metadata": {
    "scrolled": true
   },
   "outputs": [
    {
     "data": {
      "text/html": [
       "<div>\n",
       "<style scoped>\n",
       "    .dataframe tbody tr th:only-of-type {\n",
       "        vertical-align: middle;\n",
       "    }\n",
       "\n",
       "    .dataframe tbody tr th {\n",
       "        vertical-align: top;\n",
       "    }\n",
       "\n",
       "    .dataframe thead th {\n",
       "        text-align: right;\n",
       "    }\n",
       "</style>\n",
       "<table border=\"1\" class=\"dataframe\">\n",
       "  <thead>\n",
       "    <tr style=\"text-align: right;\">\n",
       "      <th></th>\n",
       "      <th>applicantID</th>\n",
       "      <th>FIRST NAME_x</th>\n",
       "      <th>LAST NAME_x</th>\n",
       "      <th>SOURCE_x</th>\n",
       "      <th>COURSE_x</th>\n",
       "      <th>TRACK_x</th>\n",
       "      <th>GENDER_x</th>\n",
       "      <th>FIRST NAME_y</th>\n",
       "      <th>LAST NAME_y</th>\n",
       "      <th>SOURCE_y</th>\n",
       "      <th>COURSE_y</th>\n",
       "      <th>TRACK_y</th>\n",
       "      <th>GENDER_y</th>\n",
       "    </tr>\n",
       "  </thead>\n",
       "  <tbody>\n",
       "    <tr>\n",
       "      <th>0</th>\n",
       "      <td>1120</td>\n",
       "      <td>Robert</td>\n",
       "      <td>Mccain</td>\n",
       "      <td>WEBSITE</td>\n",
       "      <td>Full Stack</td>\n",
       "      <td>Weekday</td>\n",
       "      <td>Male</td>\n",
       "      <td>Robert</td>\n",
       "      <td>Mccain</td>\n",
       "      <td>WEBSITE</td>\n",
       "      <td>Full Stack</td>\n",
       "      <td>Weekday</td>\n",
       "      <td>Male</td>\n",
       "    </tr>\n",
       "    <tr>\n",
       "      <th>1</th>\n",
       "      <td>2557</td>\n",
       "      <td>Russel</td>\n",
       "      <td>Reagin</td>\n",
       "      <td>Mr Simps</td>\n",
       "      <td>Full Stack</td>\n",
       "      <td>Weekday</td>\n",
       "      <td>Male</td>\n",
       "      <td>Russel</td>\n",
       "      <td>Reagin</td>\n",
       "      <td>Mr Simps</td>\n",
       "      <td>Full Stack</td>\n",
       "      <td>Weekday</td>\n",
       "      <td>Male</td>\n",
       "    </tr>\n",
       "    <tr>\n",
       "      <th>2</th>\n",
       "      <td>1682</td>\n",
       "      <td>Barry</td>\n",
       "      <td>Dickson</td>\n",
       "      <td>WEBSITE</td>\n",
       "      <td>Full Stack</td>\n",
       "      <td>Weekday</td>\n",
       "      <td>Male</td>\n",
       "      <td>Barry</td>\n",
       "      <td>Dickson</td>\n",
       "      <td>WEBSITE</td>\n",
       "      <td>Full Stack</td>\n",
       "      <td>Weekday</td>\n",
       "      <td>Male</td>\n",
       "    </tr>\n",
       "    <tr>\n",
       "      <th>3</th>\n",
       "      <td>1961</td>\n",
       "      <td>Allen</td>\n",
       "      <td>Williams</td>\n",
       "      <td>Mr Simps</td>\n",
       "      <td>NaN</td>\n",
       "      <td>Weekday</td>\n",
       "      <td>Male</td>\n",
       "      <td>Allen</td>\n",
       "      <td>Williams</td>\n",
       "      <td>Mr Simps</td>\n",
       "      <td>NaN</td>\n",
       "      <td>Weekday</td>\n",
       "      <td>Male</td>\n",
       "    </tr>\n",
       "    <tr>\n",
       "      <th>4</th>\n",
       "      <td>295</td>\n",
       "      <td>Brian</td>\n",
       "      <td>Bryon</td>\n",
       "      <td>Social Media</td>\n",
       "      <td>Python For Data Science</td>\n",
       "      <td>Weekend</td>\n",
       "      <td>Male</td>\n",
       "      <td>Brian</td>\n",
       "      <td>Bryon</td>\n",
       "      <td>Social Media</td>\n",
       "      <td>Python For Data Science</td>\n",
       "      <td>Weekend</td>\n",
       "      <td>Male</td>\n",
       "    </tr>\n",
       "  </tbody>\n",
       "</table>\n",
       "</div>"
      ],
      "text/plain": [
       "   applicantID FIRST NAME_x LAST NAME_x      SOURCE_x  \\\n",
       "0         1120       Robert      Mccain       WEBSITE   \n",
       "1         2557       Russel      Reagin      Mr Simps   \n",
       "2         1682        Barry     Dickson       WEBSITE   \n",
       "3         1961        Allen    Williams      Mr Simps   \n",
       "4          295        Brian       Bryon  Social Media   \n",
       "\n",
       "                  COURSE_x  TRACK_x GENDER_x FIRST NAME_y LAST NAME_y  \\\n",
       "0               Full Stack  Weekday     Male       Robert      Mccain   \n",
       "1               Full Stack  Weekday     Male       Russel      Reagin   \n",
       "2               Full Stack  Weekday     Male        Barry     Dickson   \n",
       "3                      NaN  Weekday     Male        Allen    Williams   \n",
       "4  Python For Data Science  Weekend     Male        Brian       Bryon   \n",
       "\n",
       "       SOURCE_y                 COURSE_y  TRACK_y GENDER_y  \n",
       "0       WEBSITE               Full Stack  Weekday     Male  \n",
       "1      Mr Simps               Full Stack  Weekday     Male  \n",
       "2       WEBSITE               Full Stack  Weekday     Male  \n",
       "3      Mr Simps                      NaN  Weekday     Male  \n",
       "4  Social Media  Python For Data Science  Weekend     Male  "
      ]
     },
     "execution_count": 30,
     "metadata": {},
     "output_type": "execute_result"
    }
   ],
   "source": [
    "enrolledapp_and_regisapp = pd.merge(enrolledapp,regisapp,how=\"left\",on='applicantID')\n",
    "enrolledapp_and_regisapp.head()"
   ]
  },
  {
   "cell_type": "code",
   "execution_count": 31,
   "metadata": {
    "scrolled": true
   },
   "outputs": [
    {
     "data": {
      "text/plain": [
       "1766"
      ]
     },
     "execution_count": 31,
     "metadata": {},
     "output_type": "execute_result"
    }
   ],
   "source": [
    "# To check for the number of enrolled and registered gender\n",
    "\n",
    "enrolledappandregisapp = enrolledapp_and_regisapp.GENDER_x.count()\n",
    "enrolledappandregisapp"
   ]
  },
  {
   "cell_type": "code",
   "execution_count": 32,
   "metadata": {
    "scrolled": false
   },
   "outputs": [
    {
     "data": {
      "text/plain": [
       "1623"
      ]
     },
     "execution_count": 32,
     "metadata": {},
     "output_type": "execute_result"
    }
   ],
   "source": [
    "enrolledappandregisapp_Male = enrolledapp_and_regisapp[enrolledapp_and_regisapp.GENDER_x == \"Male\"].GENDER_x.count()\n",
    "enrolledappandregisapp_Male"
   ]
  },
  {
   "cell_type": "code",
   "execution_count": 33,
   "metadata": {},
   "outputs": [
    {
     "data": {
      "text/plain": [
       "143"
      ]
     },
     "execution_count": 33,
     "metadata": {},
     "output_type": "execute_result"
    }
   ],
   "source": [
    "enrolledappandregisapp_Female = enrolledapp_and_regisapp[enrolledapp_and_regisapp.GENDER_x == \"Female\"].GENDER_x.count()\n",
    "enrolledappandregisapp_Female"
   ]
  },
  {
   "cell_type": "markdown",
   "metadata": {},
   "source": [
    "## Using visualization in gleaning out more information "
   ]
  },
  {
   "cell_type": "code",
   "execution_count": 34,
   "metadata": {},
   "outputs": [
    {
     "data": {
      "image/png": "[encoded data removed]",
      "text/plain": [
       "<Figure size 720x288 with 1 Axes>"
      ]
     },
     "metadata": {
      "needs_background": "light"
     },
     "output_type": "display_data"
    }
   ],
   "source": [
    "plt.figure(figsize=(10,4))\n",
    "ax = sns.countplot(x = enrolledapp['TRACK'], data=enrolledapp)\n",
    "ax.set_xticklabels(ax.get_xticklabels(), rotation=40, ha=\"right\")\n",
    "plt.tight_layout()\n",
    "plt.show()"
   ]
  },
  {
   "cell_type": "code",
   "execution_count": 35,
   "metadata": {
    "scrolled": true
   },
   "outputs": [
    {
     "data": {
      "image/png": "[encoded data removed]",
      "text/plain": [
       "<Figure size 720x288 with 1 Axes>"
      ]
     },
     "metadata": {
      "needs_background": "light"
     },
     "output_type": "display_data"
    }
   ],
   "source": [
    "plt.figure(figsize=(10,4))\n",
    "ax = sns.countplot(x = regisapp['TRACK'], data=regisapp)\n",
    "ax.set_xticklabels(ax.get_xticklabels(), rotation=45, ha=\"right\")\n",
    "plt.tight_layout()\n",
    "plt.show()"
   ]
  },
  {
   "cell_type": "code",
   "execution_count": 36,
   "metadata": {
    "scrolled": true
   },
   "outputs": [
    {
     "data": {
      "image/png": "[encoded data removed]",
      "text/plain": [
       "<Figure size 720x288 with 1 Axes>"
      ]
     },
     "metadata": {
      "needs_background": "light"
     },
     "output_type": "display_data"
    }
   ],
   "source": [
    "plt.figure(figsize=(10,4))\n",
    "ax = sns.countplot(x = enrolledapp['SOURCE'], data=enrolledapp)\n",
    "ax.set_xticklabels(ax.get_xticklabels(), rotation=35, ha=\"right\")\n",
    "plt.tight_layout()\n",
    "plt.show()"
   ]
  },
  {
   "cell_type": "code",
   "execution_count": 37,
   "metadata": {
    "scrolled": true
   },
   "outputs": [
    {
     "data": {
      "image/png": "[encoded data removed]",
      "text/plain": [
       "<Figure size 720x288 with 1 Axes>"
      ]
     },
     "metadata": {
      "needs_background": "light"
     },
     "output_type": "display_data"
    }
   ],
   "source": [
    "plt.figure(figsize=(10,4))\n",
    "ax = sns.countplot(x = regisapp['SOURCE'], data=regisapp)\n",
    "ax.set_xticklabels(ax.get_xticklabels(), rotation=30, ha=\"right\")\n",
    "plt.tight_layout()\n",
    "plt.show()"
   ]
  },
  {
   "cell_type": "markdown",
   "metadata": {},
   "source": [
    "## Probabilities"
   ]
  },
  {
   "cell_type": "code",
   "execution_count": 38,
   "metadata": {},
   "outputs": [],
   "source": [
    "# The probability that registered female applicant may likely be enrolled.\n",
    "\n",
    "nums_female_enrolledapp = enrolledapp['GENDER'][enrolledapp['GENDER'] == 'Female']\n",
    "nums_female_regisapp = regisapp['GENDER'][regisapp['GENDER'] == 'Female']"
   ]
  },
  {
   "cell_type": "code",
   "execution_count": 39,
   "metadata": {
    "scrolled": true
   },
   "outputs": [
    {
     "data": {
      "text/plain": [
       "0.199442119944212"
      ]
     },
     "execution_count": 39,
     "metadata": {},
     "output_type": "execute_result"
    }
   ],
   "source": [
    "prob_of_female = nums_female_enrolledapp.count() / nums_female_regisapp.count()\n",
    "prob_of_female"
   ]
  },
  {
   "cell_type": "code",
   "execution_count": 40,
   "metadata": {},
   "outputs": [],
   "source": [
    "# The probability that registered male applicant may likely be enrolled.\n",
    "\n",
    "nums_male_enrolledapp = enrolledapp['GENDER'][enrolledapp['GENDER'] == 'Male']\n",
    "nums_male_regisapp = regisapp['GENDER'][regisapp['GENDER'] == 'Male']"
   ]
  },
  {
   "cell_type": "code",
   "execution_count": 41,
   "metadata": {},
   "outputs": [
    {
     "data": {
      "text/plain": [
       "0.5590768170857734"
      ]
     },
     "execution_count": 41,
     "metadata": {},
     "output_type": "execute_result"
    }
   ],
   "source": [
    "prob_of_male = nums_male_enrolledapp.count() / nums_male_regisapp.count()\n",
    "prob_of_male"
   ]
  },
  {
   "cell_type": "code",
   "execution_count": 42,
   "metadata": {},
   "outputs": [
    {
     "data": {
      "text/plain": [
       "0.4878453038674033"
      ]
     },
     "execution_count": 42,
     "metadata": {},
     "output_type": "execute_result"
    }
   ],
   "source": [
    "# The probability that anyone regardless of gender can be enrolled.\n",
    "\n",
    "prob_of_anyone = enrolledapp['GENDER'].count() / regisapp['GENDER'].count()\n",
    "prob_of_anyone"
   ]
  },
  {
   "cell_type": "code",
   "execution_count": 74,
   "metadata": {
    "scrolled": false
   },
   "outputs": [
    {
     "data": {
      "image/png": "[encoded data removed]",
      "text/plain": [
       "<Figure size 504x504 with 1 Axes>"
      ]
     },
     "metadata": {},
     "output_type": "display_data"
    }
   ],
   "source": [
    "# Using pie chart for visualisation.\n",
    "\n",
    "plt.figure(figsize=(7, 7))\n",
    "\n",
    "labels = ['male','female','anyone']\n",
    "\n",
    "plt.style.use('ggplot')\n",
    "\n",
    "explode = (.1,.1,.1)\n",
    "\n",
    "plt.pie([prob_of_male,prob_of_female,prob_of_anyone],autopct = '%.1f %%',explode = explode)\n",
    "\n",
    "plt.title('PROBABILITY OF APPLICANTS ENROLLED', fontsize = 14)\n",
    "\n",
    "plt.show()"
   ]
  },
  {
   "cell_type": "markdown",
   "metadata": {},
   "source": [
    "## OBSERVATIONS AND CONCLUSION\n",
    "\n",
    "1. THERE ARE MORE MALE APPLICANTS THAN COMPARED WITH THE FEMALE COUNTER PART.\n",
    "2. FROM THE DATA SHOWN MORE MEN ARE DRAWN INTO THE TECHY WORLD.\n",
    "3. MORE APPLICANTS REGISTERED AND GOT ENROLLED FOR THE COURSES ON WEEKDAYS.\n",
    "4. WE HAD MORE APPLICANTS INTERESTED IN FULLSTACK.\n",
    "5. GREATER % OF APPLICANTS GOT WIND OF INFO FROM SOCIAL MEDIA.\n",
    "6. REGARDLESS OF GENDER, WOMEN COULD ALSO HAVE EQUAL OPPORTUNITY AS MEN IN BEING ENROLLED.\n",
    "7. WOMEN SHOULD BE ENCOURAGED IN ENROLLING FOR TECHY COURSES AS THERE'S EQUAL OPPORTUNITY FOR ALL."
   ]
  },
  {
   "cell_type": "markdown",
   "metadata": {},
   "source": [
    "# DATA WRANGLING FOR CERTAIN USER'S"
   ]
  },
  {
   "cell_type": "code",
   "execution_count": 48,
   "metadata": {
    "scrolled": true
   },
   "outputs": [
    {
     "data": {
      "text/html": [
       "<div>\n",
       "<style scoped>\n",
       "    .dataframe tbody tr th:only-of-type {\n",
       "        vertical-align: middle;\n",
       "    }\n",
       "\n",
       "    .dataframe tbody tr th {\n",
       "        vertical-align: top;\n",
       "    }\n",
       "\n",
       "    .dataframe thead th {\n",
       "        text-align: right;\n",
       "    }\n",
       "</style>\n",
       "<table border=\"1\" class=\"dataframe\">\n",
       "  <thead>\n",
       "    <tr style=\"text-align: right;\">\n",
       "      <th></th>\n",
       "      <th>Unnamed: 0</th>\n",
       "      <th>acct_no</th>\n",
       "      <th>txnYear</th>\n",
       "      <th>txnMonth</th>\n",
       "      <th>txnDay</th>\n",
       "      <th>status</th>\n",
       "      <th>no of txns</th>\n",
       "    </tr>\n",
       "  </thead>\n",
       "  <tbody>\n",
       "    <tr>\n",
       "      <th>0</th>\n",
       "      <td>0</td>\n",
       "      <td>1001192k</td>\n",
       "      <td>2019.0</td>\n",
       "      <td>10.0</td>\n",
       "      <td>29.0</td>\n",
       "      <td>successful</td>\n",
       "      <td>1.0</td>\n",
       "    </tr>\n",
       "    <tr>\n",
       "      <th>1</th>\n",
       "      <td>1</td>\n",
       "      <td>1001192k</td>\n",
       "      <td>2019.0</td>\n",
       "      <td>11.0</td>\n",
       "      <td>12.0</td>\n",
       "      <td>failed</td>\n",
       "      <td>2.0</td>\n",
       "    </tr>\n",
       "    <tr>\n",
       "      <th>2</th>\n",
       "      <td>2</td>\n",
       "      <td>1001192k</td>\n",
       "      <td>2019.0</td>\n",
       "      <td>11.0</td>\n",
       "      <td>18.0</td>\n",
       "      <td>failed</td>\n",
       "      <td>1.0</td>\n",
       "    </tr>\n",
       "    <tr>\n",
       "      <th>3</th>\n",
       "      <td>3</td>\n",
       "      <td>1001192k</td>\n",
       "      <td>2019.0</td>\n",
       "      <td>11.0</td>\n",
       "      <td>27.0</td>\n",
       "      <td>successful</td>\n",
       "      <td>1.0</td>\n",
       "    </tr>\n",
       "    <tr>\n",
       "      <th>4</th>\n",
       "      <td>4</td>\n",
       "      <td>1001192k</td>\n",
       "      <td>2019.0</td>\n",
       "      <td>12.0</td>\n",
       "      <td>8.0</td>\n",
       "      <td>failed</td>\n",
       "      <td>1.0</td>\n",
       "    </tr>\n",
       "    <tr>\n",
       "      <th>...</th>\n",
       "      <td>...</td>\n",
       "      <td>...</td>\n",
       "      <td>...</td>\n",
       "      <td>...</td>\n",
       "      <td>...</td>\n",
       "      <td>...</td>\n",
       "      <td>...</td>\n",
       "    </tr>\n",
       "    <tr>\n",
       "      <th>33382</th>\n",
       "      <td>33382</td>\n",
       "      <td>1589302r</td>\n",
       "      <td>2020.0</td>\n",
       "      <td>11.0</td>\n",
       "      <td>1.0</td>\n",
       "      <td>successful</td>\n",
       "      <td>2.0</td>\n",
       "    </tr>\n",
       "    <tr>\n",
       "      <th>33383</th>\n",
       "      <td>33383</td>\n",
       "      <td>1589302r</td>\n",
       "      <td>2020.0</td>\n",
       "      <td>11.0</td>\n",
       "      <td>5.0</td>\n",
       "      <td>successful</td>\n",
       "      <td>1.0</td>\n",
       "    </tr>\n",
       "    <tr>\n",
       "      <th>33384</th>\n",
       "      <td>33384</td>\n",
       "      <td>1589942l</td>\n",
       "      <td>2019.0</td>\n",
       "      <td>9.0</td>\n",
       "      <td>16.0</td>\n",
       "      <td>successful</td>\n",
       "      <td>1.0</td>\n",
       "    </tr>\n",
       "    <tr>\n",
       "      <th>33385</th>\n",
       "      <td>33385</td>\n",
       "      <td>1589942l</td>\n",
       "      <td>2019.0</td>\n",
       "      <td>10.0</td>\n",
       "      <td>4.0</td>\n",
       "      <td>successful</td>\n",
       "      <td>1.0</td>\n",
       "    </tr>\n",
       "    <tr>\n",
       "      <th>33386</th>\n",
       "      <td>33386</td>\n",
       "      <td>1</td>\n",
       "      <td>NaN</td>\n",
       "      <td>NaN</td>\n",
       "      <td>NaN</td>\n",
       "      <td>NaN</td>\n",
       "      <td>NaN</td>\n",
       "    </tr>\n",
       "  </tbody>\n",
       "</table>\n",
       "<p>33387 rows × 7 columns</p>\n",
       "</div>"
      ],
      "text/plain": [
       "       Unnamed: 0   acct_no  txnYear  txnMonth  txnDay      status  no of txns\n",
       "0               0  1001192k   2019.0      10.0    29.0  successful         1.0\n",
       "1               1  1001192k   2019.0      11.0    12.0      failed         2.0\n",
       "2               2  1001192k   2019.0      11.0    18.0      failed         1.0\n",
       "3               3  1001192k   2019.0      11.0    27.0  successful         1.0\n",
       "4               4  1001192k   2019.0      12.0     8.0      failed         1.0\n",
       "...           ...       ...      ...       ...     ...         ...         ...\n",
       "33382       33382  1589302r   2020.0      11.0     1.0  successful         2.0\n",
       "33383       33383  1589302r   2020.0      11.0     5.0  successful         1.0\n",
       "33384       33384  1589942l   2019.0       9.0    16.0  successful         1.0\n",
       "33385       33385  1589942l   2019.0      10.0     4.0  successful         1.0\n",
       "33386       33386         1      NaN       NaN     NaN         NaN         NaN\n",
       "\n",
       "[33387 rows x 7 columns]"
      ]
     },
     "execution_count": 48,
     "metadata": {},
     "output_type": "execute_result"
    }
   ],
   "source": [
    "txn = pd.read_csv('C:/Users/TAHIR/Desktop/Revised v-internship/txn_data.csv')\n",
    "txn"
   ]
  },
  {
   "cell_type": "code",
   "execution_count": 51,
   "metadata": {
    "scrolled": true
   },
   "outputs": [
    {
     "data": {
      "text/plain": [
       "<bound method NDFrame.describe of        userID   acct_no  txnYear  txnMonth  txnDay      status  no of txns\n",
       "0           0  1001192k   2019.0      10.0    29.0  successful         1.0\n",
       "1           1  1001192k   2019.0      11.0    12.0      failed         2.0\n",
       "2           2  1001192k   2019.0      11.0    18.0      failed         1.0\n",
       "3           3  1001192k   2019.0      11.0    27.0  successful         1.0\n",
       "4           4  1001192k   2019.0      12.0     8.0      failed         1.0\n",
       "...       ...       ...      ...       ...     ...         ...         ...\n",
       "33382   33382  1589302r   2020.0      11.0     1.0  successful         2.0\n",
       "33383   33383  1589302r   2020.0      11.0     5.0  successful         1.0\n",
       "33384   33384  1589942l   2019.0       9.0    16.0  successful         1.0\n",
       "33385   33385  1589942l   2019.0      10.0     4.0  successful         1.0\n",
       "33386   33386         1      NaN       NaN     NaN         NaN         NaN\n",
       "\n",
       "[33387 rows x 7 columns]>"
      ]
     },
     "execution_count": 51,
     "metadata": {},
     "output_type": "execute_result"
    }
   ],
   "source": [
    "txn.describe"
   ]
  },
  {
   "cell_type": "code",
   "execution_count": 49,
   "metadata": {
    "scrolled": true
   },
   "outputs": [
    {
     "data": {
      "text/html": [
       "<div>\n",
       "<style scoped>\n",
       "    .dataframe tbody tr th:only-of-type {\n",
       "        vertical-align: middle;\n",
       "    }\n",
       "\n",
       "    .dataframe tbody tr th {\n",
       "        vertical-align: top;\n",
       "    }\n",
       "\n",
       "    .dataframe thead th {\n",
       "        text-align: right;\n",
       "    }\n",
       "</style>\n",
       "<table border=\"1\" class=\"dataframe\">\n",
       "  <thead>\n",
       "    <tr style=\"text-align: right;\">\n",
       "      <th></th>\n",
       "      <th>userID</th>\n",
       "      <th>acct_no</th>\n",
       "      <th>txnYear</th>\n",
       "      <th>txnMonth</th>\n",
       "      <th>txnDay</th>\n",
       "      <th>status</th>\n",
       "      <th>no of txns</th>\n",
       "    </tr>\n",
       "  </thead>\n",
       "  <tbody>\n",
       "    <tr>\n",
       "      <th>0</th>\n",
       "      <td>0</td>\n",
       "      <td>1001192k</td>\n",
       "      <td>2019.0</td>\n",
       "      <td>10.0</td>\n",
       "      <td>29.0</td>\n",
       "      <td>successful</td>\n",
       "      <td>1.0</td>\n",
       "    </tr>\n",
       "    <tr>\n",
       "      <th>1</th>\n",
       "      <td>1</td>\n",
       "      <td>1001192k</td>\n",
       "      <td>2019.0</td>\n",
       "      <td>11.0</td>\n",
       "      <td>12.0</td>\n",
       "      <td>failed</td>\n",
       "      <td>2.0</td>\n",
       "    </tr>\n",
       "    <tr>\n",
       "      <th>2</th>\n",
       "      <td>2</td>\n",
       "      <td>1001192k</td>\n",
       "      <td>2019.0</td>\n",
       "      <td>11.0</td>\n",
       "      <td>18.0</td>\n",
       "      <td>failed</td>\n",
       "      <td>1.0</td>\n",
       "    </tr>\n",
       "    <tr>\n",
       "      <th>3</th>\n",
       "      <td>3</td>\n",
       "      <td>1001192k</td>\n",
       "      <td>2019.0</td>\n",
       "      <td>11.0</td>\n",
       "      <td>27.0</td>\n",
       "      <td>successful</td>\n",
       "      <td>1.0</td>\n",
       "    </tr>\n",
       "    <tr>\n",
       "      <th>4</th>\n",
       "      <td>4</td>\n",
       "      <td>1001192k</td>\n",
       "      <td>2019.0</td>\n",
       "      <td>12.0</td>\n",
       "      <td>8.0</td>\n",
       "      <td>failed</td>\n",
       "      <td>1.0</td>\n",
       "    </tr>\n",
       "    <tr>\n",
       "      <th>...</th>\n",
       "      <td>...</td>\n",
       "      <td>...</td>\n",
       "      <td>...</td>\n",
       "      <td>...</td>\n",
       "      <td>...</td>\n",
       "      <td>...</td>\n",
       "      <td>...</td>\n",
       "    </tr>\n",
       "    <tr>\n",
       "      <th>33382</th>\n",
       "      <td>33382</td>\n",
       "      <td>1589302r</td>\n",
       "      <td>2020.0</td>\n",
       "      <td>11.0</td>\n",
       "      <td>1.0</td>\n",
       "      <td>successful</td>\n",
       "      <td>2.0</td>\n",
       "    </tr>\n",
       "    <tr>\n",
       "      <th>33383</th>\n",
       "      <td>33383</td>\n",
       "      <td>1589302r</td>\n",
       "      <td>2020.0</td>\n",
       "      <td>11.0</td>\n",
       "      <td>5.0</td>\n",
       "      <td>successful</td>\n",
       "      <td>1.0</td>\n",
       "    </tr>\n",
       "    <tr>\n",
       "      <th>33384</th>\n",
       "      <td>33384</td>\n",
       "      <td>1589942l</td>\n",
       "      <td>2019.0</td>\n",
       "      <td>9.0</td>\n",
       "      <td>16.0</td>\n",
       "      <td>successful</td>\n",
       "      <td>1.0</td>\n",
       "    </tr>\n",
       "    <tr>\n",
       "      <th>33385</th>\n",
       "      <td>33385</td>\n",
       "      <td>1589942l</td>\n",
       "      <td>2019.0</td>\n",
       "      <td>10.0</td>\n",
       "      <td>4.0</td>\n",
       "      <td>successful</td>\n",
       "      <td>1.0</td>\n",
       "    </tr>\n",
       "    <tr>\n",
       "      <th>33386</th>\n",
       "      <td>33386</td>\n",
       "      <td>1</td>\n",
       "      <td>NaN</td>\n",
       "      <td>NaN</td>\n",
       "      <td>NaN</td>\n",
       "      <td>NaN</td>\n",
       "      <td>NaN</td>\n",
       "    </tr>\n",
       "  </tbody>\n",
       "</table>\n",
       "<p>33387 rows × 7 columns</p>\n",
       "</div>"
      ],
      "text/plain": [
       "       userID   acct_no  txnYear  txnMonth  txnDay      status  no of txns\n",
       "0           0  1001192k   2019.0      10.0    29.0  successful         1.0\n",
       "1           1  1001192k   2019.0      11.0    12.0      failed         2.0\n",
       "2           2  1001192k   2019.0      11.0    18.0      failed         1.0\n",
       "3           3  1001192k   2019.0      11.0    27.0  successful         1.0\n",
       "4           4  1001192k   2019.0      12.0     8.0      failed         1.0\n",
       "...       ...       ...      ...       ...     ...         ...         ...\n",
       "33382   33382  1589302r   2020.0      11.0     1.0  successful         2.0\n",
       "33383   33383  1589302r   2020.0      11.0     5.0  successful         1.0\n",
       "33384   33384  1589942l   2019.0       9.0    16.0  successful         1.0\n",
       "33385   33385  1589942l   2019.0      10.0     4.0  successful         1.0\n",
       "33386   33386         1      NaN       NaN     NaN         NaN         NaN\n",
       "\n",
       "[33387 rows x 7 columns]"
      ]
     },
     "execution_count": 49,
     "metadata": {},
     "output_type": "execute_result"
    }
   ],
   "source": [
    "# RENAMING THE FIRST COLUMN TO USER ID\n",
    "\n",
    "txn= txn.rename(columns = {\"Unnamed: 0\":\"userID\"})\n",
    "\n",
    "txn"
   ]
  },
  {
   "cell_type": "code",
   "execution_count": 52,
   "metadata": {},
   "outputs": [
    {
     "data": {
      "text/plain": [
       "1568058s    482\n",
       "1470856q    444\n",
       "1588846p    366\n",
       "1261593n    353\n",
       "1517579l    332\n",
       "           ... \n",
       "1066202p      1\n",
       "1445840l      1\n",
       "1001219p      1\n",
       "1236847p      1\n",
       "1347334k      1\n",
       "Name: acct_no, Length: 517, dtype: int64"
      ]
     },
     "execution_count": 52,
     "metadata": {},
     "output_type": "execute_result"
    }
   ],
   "source": [
    "txn['acct_no'].value_counts()"
   ]
  },
  {
   "cell_type": "code",
   "execution_count": 53,
   "metadata": {
    "scrolled": true
   },
   "outputs": [
    {
     "data": {
      "text/plain": [
       "2020.0    23803\n",
       "2019.0     9583\n",
       "Name: txnYear, dtype: int64"
      ]
     },
     "execution_count": 53,
     "metadata": {},
     "output_type": "execute_result"
    }
   ],
   "source": [
    "txn['txnYear'].value_counts()"
   ]
  },
  {
   "cell_type": "code",
   "execution_count": 54,
   "metadata": {},
   "outputs": [
    {
     "data": {
      "text/plain": [
       "10.0    6812\n",
       "9.0     5730\n",
       "7.0     3969\n",
       "6.0     3254\n",
       "8.0     3145\n",
       "11.0    2391\n",
       "5.0     2119\n",
       "3.0     1272\n",
       "2.0     1206\n",
       "12.0    1192\n",
       "1.0     1182\n",
       "4.0     1114\n",
       "Name: txnMonth, dtype: int64"
      ]
     },
     "execution_count": 54,
     "metadata": {},
     "output_type": "execute_result"
    }
   ],
   "source": [
    "txn['txnMonth'].value_counts()"
   ]
  },
  {
   "cell_type": "code",
   "execution_count": 55,
   "metadata": {},
   "outputs": [
    {
     "data": {
      "text/plain": [
       "3.0     1330\n",
       "2.0     1293\n",
       "5.0     1254\n",
       "4.0     1243\n",
       "15.0    1160\n",
       "7.0     1145\n",
       "10.0    1140\n",
       "23.0    1136\n",
       "14.0    1135\n",
       "29.0    1133\n",
       "16.0    1115\n",
       "28.0    1112\n",
       "8.0     1109\n",
       "13.0    1089\n",
       "1.0     1086\n",
       "21.0    1084\n",
       "24.0    1074\n",
       "12.0    1072\n",
       "27.0    1070\n",
       "19.0    1069\n",
       "18.0    1068\n",
       "9.0     1057\n",
       "6.0     1050\n",
       "11.0    1045\n",
       "17.0    1021\n",
       "22.0    1009\n",
       "20.0    1008\n",
       "26.0     993\n",
       "30.0     979\n",
       "25.0     966\n",
       "31.0     341\n",
       "Name: txnDay, dtype: int64"
      ]
     },
     "execution_count": 55,
     "metadata": {},
     "output_type": "execute_result"
    }
   ],
   "source": [
    "txn['txnDay'].value_counts()"
   ]
  },
  {
   "cell_type": "code",
   "execution_count": 56,
   "metadata": {},
   "outputs": [
    {
     "data": {
      "text/plain": [
       "successful     30825\n",
       "failed          1817\n",
       "declined         651\n",
       "initialized       87\n",
       "debited            3\n",
       "pending            3\n",
       "Name: status, dtype: int64"
      ]
     },
     "execution_count": 56,
     "metadata": {},
     "output_type": "execute_result"
    }
   ],
   "source": [
    "txn['status'].value_counts()"
   ]
  },
  {
   "cell_type": "code",
   "execution_count": 57,
   "metadata": {},
   "outputs": [
    {
     "data": {
      "text/plain": [
       "1.0     18021\n",
       "2.0      7124\n",
       "3.0      3459\n",
       "4.0      1915\n",
       "5.0      1086\n",
       "6.0       640\n",
       "7.0       394\n",
       "8.0       243\n",
       "9.0       149\n",
       "10.0      116\n",
       "12.0       56\n",
       "11.0       55\n",
       "13.0       35\n",
       "14.0       26\n",
       "15.0       22\n",
       "16.0       11\n",
       "17.0        9\n",
       "21.0        6\n",
       "18.0        4\n",
       "19.0        4\n",
       "22.0        4\n",
       "23.0        2\n",
       "24.0        1\n",
       "27.0        1\n",
       "25.0        1\n",
       "69.0        1\n",
       "20.0        1\n",
       "Name: no of txns, dtype: int64"
      ]
     },
     "execution_count": 57,
     "metadata": {},
     "output_type": "execute_result"
    }
   ],
   "source": [
    "txn['no of txns'].value_counts()"
   ]
  },
  {
   "cell_type": "code",
   "execution_count": 58,
   "metadata": {},
   "outputs": [
    {
     "data": {
      "text/plain": [
       "33387"
      ]
     },
     "execution_count": 58,
     "metadata": {},
     "output_type": "execute_result"
    }
   ],
   "source": [
    "len(txn)"
   ]
  },
  {
   "cell_type": "code",
   "execution_count": 69,
   "metadata": {},
   "outputs": [
    {
     "data": {
      "text/plain": [
       "517"
      ]
     },
     "execution_count": 69,
     "metadata": {},
     "output_type": "execute_result"
    }
   ],
   "source": [
    "len(txn['acct_no'].unique())"
   ]
  },
  {
   "cell_type": "code",
   "execution_count": 70,
   "metadata": {},
   "outputs": [
    {
     "data": {
      "text/plain": [
       "userID        0\n",
       "acct_no       0\n",
       "txnYear       1\n",
       "txnMonth      1\n",
       "txnDay        1\n",
       "status        1\n",
       "no of txns    1\n",
       "dtype: int64"
      ]
     },
     "execution_count": 70,
     "metadata": {},
     "output_type": "execute_result"
    }
   ],
   "source": [
    "txn.isnull().sum()"
   ]
  },
  {
   "cell_type": "code",
   "execution_count": 71,
   "metadata": {},
   "outputs": [],
   "source": [
    "txn.dropna(axis=0, how=\"any\",inplace=True)"
   ]
  },
  {
   "cell_type": "code",
   "execution_count": 72,
   "metadata": {
    "scrolled": true
   },
   "outputs": [
    {
     "data": {
      "text/plain": [
       "userID        0\n",
       "acct_no       0\n",
       "txnYear       0\n",
       "txnMonth      0\n",
       "txnDay        0\n",
       "status        0\n",
       "no of txns    0\n",
       "dtype: int64"
      ]
     },
     "execution_count": 72,
     "metadata": {},
     "output_type": "execute_result"
    }
   ],
   "source": [
    "txn.isnull().sum()"
   ]
  },
  {
   "cell_type": "code",
   "execution_count": 73,
   "metadata": {},
   "outputs": [
    {
     "data": {
      "text/html": [
       "<div>\n",
       "<style scoped>\n",
       "    .dataframe tbody tr th:only-of-type {\n",
       "        vertical-align: middle;\n",
       "    }\n",
       "\n",
       "    .dataframe tbody tr th {\n",
       "        vertical-align: top;\n",
       "    }\n",
       "\n",
       "    .dataframe thead th {\n",
       "        text-align: right;\n",
       "    }\n",
       "</style>\n",
       "<table border=\"1\" class=\"dataframe\">\n",
       "  <thead>\n",
       "    <tr style=\"text-align: right;\">\n",
       "      <th></th>\n",
       "      <th>userID</th>\n",
       "      <th>acct_no</th>\n",
       "      <th>txnYear</th>\n",
       "      <th>txnMonth</th>\n",
       "      <th>txnDay</th>\n",
       "      <th>status</th>\n",
       "      <th>no of txns</th>\n",
       "    </tr>\n",
       "  </thead>\n",
       "  <tbody>\n",
       "    <tr>\n",
       "      <th>0</th>\n",
       "      <td>0</td>\n",
       "      <td>1001192k</td>\n",
       "      <td>2019.0</td>\n",
       "      <td>10.0</td>\n",
       "      <td>29.0</td>\n",
       "      <td>successful</td>\n",
       "      <td>1.0</td>\n",
       "    </tr>\n",
       "    <tr>\n",
       "      <th>1</th>\n",
       "      <td>1</td>\n",
       "      <td>1001192k</td>\n",
       "      <td>2019.0</td>\n",
       "      <td>11.0</td>\n",
       "      <td>12.0</td>\n",
       "      <td>failed</td>\n",
       "      <td>2.0</td>\n",
       "    </tr>\n",
       "    <tr>\n",
       "      <th>2</th>\n",
       "      <td>2</td>\n",
       "      <td>1001192k</td>\n",
       "      <td>2019.0</td>\n",
       "      <td>11.0</td>\n",
       "      <td>18.0</td>\n",
       "      <td>failed</td>\n",
       "      <td>1.0</td>\n",
       "    </tr>\n",
       "    <tr>\n",
       "      <th>3</th>\n",
       "      <td>3</td>\n",
       "      <td>1001192k</td>\n",
       "      <td>2019.0</td>\n",
       "      <td>11.0</td>\n",
       "      <td>27.0</td>\n",
       "      <td>successful</td>\n",
       "      <td>1.0</td>\n",
       "    </tr>\n",
       "    <tr>\n",
       "      <th>4</th>\n",
       "      <td>4</td>\n",
       "      <td>1001192k</td>\n",
       "      <td>2019.0</td>\n",
       "      <td>12.0</td>\n",
       "      <td>8.0</td>\n",
       "      <td>failed</td>\n",
       "      <td>1.0</td>\n",
       "    </tr>\n",
       "    <tr>\n",
       "      <th>...</th>\n",
       "      <td>...</td>\n",
       "      <td>...</td>\n",
       "      <td>...</td>\n",
       "      <td>...</td>\n",
       "      <td>...</td>\n",
       "      <td>...</td>\n",
       "      <td>...</td>\n",
       "    </tr>\n",
       "    <tr>\n",
       "      <th>33381</th>\n",
       "      <td>33381</td>\n",
       "      <td>1589302r</td>\n",
       "      <td>2020.0</td>\n",
       "      <td>10.0</td>\n",
       "      <td>26.0</td>\n",
       "      <td>successful</td>\n",
       "      <td>1.0</td>\n",
       "    </tr>\n",
       "    <tr>\n",
       "      <th>33382</th>\n",
       "      <td>33382</td>\n",
       "      <td>1589302r</td>\n",
       "      <td>2020.0</td>\n",
       "      <td>11.0</td>\n",
       "      <td>1.0</td>\n",
       "      <td>successful</td>\n",
       "      <td>2.0</td>\n",
       "    </tr>\n",
       "    <tr>\n",
       "      <th>33383</th>\n",
       "      <td>33383</td>\n",
       "      <td>1589302r</td>\n",
       "      <td>2020.0</td>\n",
       "      <td>11.0</td>\n",
       "      <td>5.0</td>\n",
       "      <td>successful</td>\n",
       "      <td>1.0</td>\n",
       "    </tr>\n",
       "    <tr>\n",
       "      <th>33384</th>\n",
       "      <td>33384</td>\n",
       "      <td>1589942l</td>\n",
       "      <td>2019.0</td>\n",
       "      <td>9.0</td>\n",
       "      <td>16.0</td>\n",
       "      <td>successful</td>\n",
       "      <td>1.0</td>\n",
       "    </tr>\n",
       "    <tr>\n",
       "      <th>33385</th>\n",
       "      <td>33385</td>\n",
       "      <td>1589942l</td>\n",
       "      <td>2019.0</td>\n",
       "      <td>10.0</td>\n",
       "      <td>4.0</td>\n",
       "      <td>successful</td>\n",
       "      <td>1.0</td>\n",
       "    </tr>\n",
       "  </tbody>\n",
       "</table>\n",
       "<p>33386 rows × 7 columns</p>\n",
       "</div>"
      ],
      "text/plain": [
       "       userID   acct_no  txnYear  txnMonth  txnDay      status  no of txns\n",
       "0           0  1001192k   2019.0      10.0    29.0  successful         1.0\n",
       "1           1  1001192k   2019.0      11.0    12.0      failed         2.0\n",
       "2           2  1001192k   2019.0      11.0    18.0      failed         1.0\n",
       "3           3  1001192k   2019.0      11.0    27.0  successful         1.0\n",
       "4           4  1001192k   2019.0      12.0     8.0      failed         1.0\n",
       "...       ...       ...      ...       ...     ...         ...         ...\n",
       "33381   33381  1589302r   2020.0      10.0    26.0  successful         1.0\n",
       "33382   33382  1589302r   2020.0      11.0     1.0  successful         2.0\n",
       "33383   33383  1589302r   2020.0      11.0     5.0  successful         1.0\n",
       "33384   33384  1589942l   2019.0       9.0    16.0  successful         1.0\n",
       "33385   33385  1589942l   2019.0      10.0     4.0  successful         1.0\n",
       "\n",
       "[33386 rows x 7 columns]"
      ]
     },
     "execution_count": 73,
     "metadata": {},
     "output_type": "execute_result"
    }
   ],
   "source": [
    "txn.drop_duplicates()"
   ]
  },
  {
   "cell_type": "code",
   "execution_count": 75,
   "metadata": {},
   "outputs": [
    {
     "name": "stdout",
     "output_type": "stream",
     "text": [
      "<class 'pandas.core.frame.DataFrame'>\n",
      "Int64Index: 33386 entries, 0 to 33385\n",
      "Data columns (total 7 columns):\n",
      " #   Column      Non-Null Count  Dtype  \n",
      "---  ------      --------------  -----  \n",
      " 0   userID      33386 non-null  int64  \n",
      " 1   acct_no     33386 non-null  object \n",
      " 2   txnYear     33386 non-null  float64\n",
      " 3   txnMonth    33386 non-null  float64\n",
      " 4   txnDay      33386 non-null  float64\n",
      " 5   status      33386 non-null  object \n",
      " 6   no of txns  33386 non-null  float64\n",
      "dtypes: float64(4), int64(1), object(2)\n",
      "memory usage: 2.0+ MB\n"
     ]
    }
   ],
   "source": [
    "txn.info()"
   ]
  },
  {
   "cell_type": "code",
   "execution_count": 86,
   "metadata": {
    "scrolled": true
   },
   "outputs": [
    {
     "ename": "ValueError",
     "evalue": "time data '2019.010.029.0' does not match format '%Y%d%m'",
     "output_type": "error",
     "traceback": [
      "\u001b[1;31m---------------------------------------------------------------------------\u001b[0m",
      "\u001b[1;31mValueError\u001b[0m                                Traceback (most recent call last)",
      "\u001b[1;32m<ipython-input-86-e28e865e94ba>\u001b[0m in \u001b[0;36m<module>\u001b[1;34m\u001b[0m\n\u001b[0;32m      3\u001b[0m \u001b[0mtxn\u001b[0m\u001b[1;33m[\u001b[0m\u001b[1;34m'txnYear'\u001b[0m\u001b[1;33m]\u001b[0m\u001b[1;33m,\u001b[0m \u001b[0mtxn\u001b[0m\u001b[1;33m[\u001b[0m\u001b[1;34m'txnMonth'\u001b[0m\u001b[1;33m]\u001b[0m\u001b[1;33m,\u001b[0m \u001b[0mtxn\u001b[0m\u001b[1;33m[\u001b[0m\u001b[1;34m'txnDay'\u001b[0m\u001b[1;33m]\u001b[0m \u001b[1;33m=\u001b[0m \u001b[0mtxn\u001b[0m\u001b[1;33m[\u001b[0m\u001b[1;34m'txnYear'\u001b[0m\u001b[1;33m]\u001b[0m\u001b[1;33m.\u001b[0m\u001b[0mastype\u001b[0m\u001b[1;33m(\u001b[0m\u001b[0mstr\u001b[0m\u001b[1;33m)\u001b[0m\u001b[1;33m,\u001b[0m\u001b[0mtxn\u001b[0m\u001b[1;33m[\u001b[0m\u001b[1;34m'txnMonth'\u001b[0m\u001b[1;33m]\u001b[0m\u001b[1;33m.\u001b[0m\u001b[0mastype\u001b[0m\u001b[1;33m(\u001b[0m\u001b[0mstr\u001b[0m\u001b[1;33m)\u001b[0m\u001b[1;33m,\u001b[0m\u001b[0mtxn\u001b[0m\u001b[1;33m[\u001b[0m\u001b[1;34m'txnDay'\u001b[0m\u001b[1;33m]\u001b[0m\u001b[1;33m.\u001b[0m\u001b[0mastype\u001b[0m\u001b[1;33m(\u001b[0m\u001b[0mstr\u001b[0m\u001b[1;33m)\u001b[0m\u001b[1;33m\u001b[0m\u001b[1;33m\u001b[0m\u001b[0m\n\u001b[0;32m      4\u001b[0m \u001b[0mtxn\u001b[0m\u001b[1;33m[\u001b[0m\u001b[1;34m'date'\u001b[0m\u001b[1;33m]\u001b[0m \u001b[1;33m=\u001b[0m \u001b[0mtxn\u001b[0m\u001b[1;33m[\u001b[0m\u001b[1;34m'txnYear'\u001b[0m\u001b[1;33m]\u001b[0m\u001b[1;33m+\u001b[0m \u001b[0mtxn\u001b[0m\u001b[1;33m[\u001b[0m\u001b[1;34m'txnMonth'\u001b[0m\u001b[1;33m]\u001b[0m\u001b[1;33m+\u001b[0m\u001b[0mtxn\u001b[0m\u001b[1;33m[\u001b[0m\u001b[1;34m'txnDay'\u001b[0m\u001b[1;33m]\u001b[0m\u001b[1;33m\u001b[0m\u001b[1;33m\u001b[0m\u001b[0m\n\u001b[1;32m----> 5\u001b[1;33m \u001b[0mtxn\u001b[0m\u001b[1;33m[\u001b[0m\u001b[1;34m'date'\u001b[0m\u001b[1;33m]\u001b[0m \u001b[1;33m=\u001b[0m \u001b[0mtxn\u001b[0m\u001b[1;33m[\u001b[0m\u001b[1;34m'date'\u001b[0m\u001b[1;33m]\u001b[0m\u001b[1;33m.\u001b[0m\u001b[0mapply\u001b[0m\u001b[1;33m(\u001b[0m\u001b[1;32mlambda\u001b[0m \u001b[0mx\u001b[0m\u001b[1;33m:\u001b[0m\u001b[0mdt\u001b[0m\u001b[1;33m.\u001b[0m\u001b[0mdatetime\u001b[0m\u001b[1;33m.\u001b[0m\u001b[0mstrptime\u001b[0m\u001b[1;33m(\u001b[0m\u001b[0mx\u001b[0m\u001b[1;33m,\u001b[0m\u001b[1;34m'%Y%d%m'\u001b[0m\u001b[1;33m)\u001b[0m\u001b[1;33m)\u001b[0m\u001b[1;33m\u001b[0m\u001b[1;33m\u001b[0m\u001b[0m\n\u001b[0m",
      "\u001b[1;32mc:\\users\\tahir\\appdata\\local\\programs\\python\\python37\\lib\\site-packages\\pandas\\core\\series.py\u001b[0m in \u001b[0;36mapply\u001b[1;34m(self, func, convert_dtype, args, **kwds)\u001b[0m\n\u001b[0;32m   4198\u001b[0m             \u001b[1;32melse\u001b[0m\u001b[1;33m:\u001b[0m\u001b[1;33m\u001b[0m\u001b[1;33m\u001b[0m\u001b[0m\n\u001b[0;32m   4199\u001b[0m                 \u001b[0mvalues\u001b[0m \u001b[1;33m=\u001b[0m \u001b[0mself\u001b[0m\u001b[1;33m.\u001b[0m\u001b[0mastype\u001b[0m\u001b[1;33m(\u001b[0m\u001b[0mobject\u001b[0m\u001b[1;33m)\u001b[0m\u001b[1;33m.\u001b[0m\u001b[0m_values\u001b[0m\u001b[1;33m\u001b[0m\u001b[1;33m\u001b[0m\u001b[0m\n\u001b[1;32m-> 4200\u001b[1;33m                 \u001b[0mmapped\u001b[0m \u001b[1;33m=\u001b[0m \u001b[0mlib\u001b[0m\u001b[1;33m.\u001b[0m\u001b[0mmap_infer\u001b[0m\u001b[1;33m(\u001b[0m\u001b[0mvalues\u001b[0m\u001b[1;33m,\u001b[0m \u001b[0mf\u001b[0m\u001b[1;33m,\u001b[0m \u001b[0mconvert\u001b[0m\u001b[1;33m=\u001b[0m\u001b[0mconvert_dtype\u001b[0m\u001b[1;33m)\u001b[0m\u001b[1;33m\u001b[0m\u001b[1;33m\u001b[0m\u001b[0m\n\u001b[0m\u001b[0;32m   4201\u001b[0m \u001b[1;33m\u001b[0m\u001b[0m\n\u001b[0;32m   4202\u001b[0m         \u001b[1;32mif\u001b[0m \u001b[0mlen\u001b[0m\u001b[1;33m(\u001b[0m\u001b[0mmapped\u001b[0m\u001b[1;33m)\u001b[0m \u001b[1;32mand\u001b[0m \u001b[0misinstance\u001b[0m\u001b[1;33m(\u001b[0m\u001b[0mmapped\u001b[0m\u001b[1;33m[\u001b[0m\u001b[1;36m0\u001b[0m\u001b[1;33m]\u001b[0m\u001b[1;33m,\u001b[0m \u001b[0mSeries\u001b[0m\u001b[1;33m)\u001b[0m\u001b[1;33m:\u001b[0m\u001b[1;33m\u001b[0m\u001b[1;33m\u001b[0m\u001b[0m\n",
      "\u001b[1;32mpandas\\_libs\\lib.pyx\u001b[0m in \u001b[0;36mpandas._libs.lib.map_infer\u001b[1;34m()\u001b[0m\n",
      "\u001b[1;32m<ipython-input-86-e28e865e94ba>\u001b[0m in \u001b[0;36m<lambda>\u001b[1;34m(x)\u001b[0m\n\u001b[0;32m      3\u001b[0m \u001b[0mtxn\u001b[0m\u001b[1;33m[\u001b[0m\u001b[1;34m'txnYear'\u001b[0m\u001b[1;33m]\u001b[0m\u001b[1;33m,\u001b[0m \u001b[0mtxn\u001b[0m\u001b[1;33m[\u001b[0m\u001b[1;34m'txnMonth'\u001b[0m\u001b[1;33m]\u001b[0m\u001b[1;33m,\u001b[0m \u001b[0mtxn\u001b[0m\u001b[1;33m[\u001b[0m\u001b[1;34m'txnDay'\u001b[0m\u001b[1;33m]\u001b[0m \u001b[1;33m=\u001b[0m \u001b[0mtxn\u001b[0m\u001b[1;33m[\u001b[0m\u001b[1;34m'txnYear'\u001b[0m\u001b[1;33m]\u001b[0m\u001b[1;33m.\u001b[0m\u001b[0mastype\u001b[0m\u001b[1;33m(\u001b[0m\u001b[0mstr\u001b[0m\u001b[1;33m)\u001b[0m\u001b[1;33m,\u001b[0m\u001b[0mtxn\u001b[0m\u001b[1;33m[\u001b[0m\u001b[1;34m'txnMonth'\u001b[0m\u001b[1;33m]\u001b[0m\u001b[1;33m.\u001b[0m\u001b[0mastype\u001b[0m\u001b[1;33m(\u001b[0m\u001b[0mstr\u001b[0m\u001b[1;33m)\u001b[0m\u001b[1;33m,\u001b[0m\u001b[0mtxn\u001b[0m\u001b[1;33m[\u001b[0m\u001b[1;34m'txnDay'\u001b[0m\u001b[1;33m]\u001b[0m\u001b[1;33m.\u001b[0m\u001b[0mastype\u001b[0m\u001b[1;33m(\u001b[0m\u001b[0mstr\u001b[0m\u001b[1;33m)\u001b[0m\u001b[1;33m\u001b[0m\u001b[1;33m\u001b[0m\u001b[0m\n\u001b[0;32m      4\u001b[0m \u001b[0mtxn\u001b[0m\u001b[1;33m[\u001b[0m\u001b[1;34m'date'\u001b[0m\u001b[1;33m]\u001b[0m \u001b[1;33m=\u001b[0m \u001b[0mtxn\u001b[0m\u001b[1;33m[\u001b[0m\u001b[1;34m'txnYear'\u001b[0m\u001b[1;33m]\u001b[0m\u001b[1;33m+\u001b[0m \u001b[0mtxn\u001b[0m\u001b[1;33m[\u001b[0m\u001b[1;34m'txnMonth'\u001b[0m\u001b[1;33m]\u001b[0m\u001b[1;33m+\u001b[0m\u001b[0mtxn\u001b[0m\u001b[1;33m[\u001b[0m\u001b[1;34m'txnDay'\u001b[0m\u001b[1;33m]\u001b[0m\u001b[1;33m\u001b[0m\u001b[1;33m\u001b[0m\u001b[0m\n\u001b[1;32m----> 5\u001b[1;33m \u001b[0mtxn\u001b[0m\u001b[1;33m[\u001b[0m\u001b[1;34m'date'\u001b[0m\u001b[1;33m]\u001b[0m \u001b[1;33m=\u001b[0m \u001b[0mtxn\u001b[0m\u001b[1;33m[\u001b[0m\u001b[1;34m'date'\u001b[0m\u001b[1;33m]\u001b[0m\u001b[1;33m.\u001b[0m\u001b[0mapply\u001b[0m\u001b[1;33m(\u001b[0m\u001b[1;32mlambda\u001b[0m \u001b[0mx\u001b[0m\u001b[1;33m:\u001b[0m\u001b[0mdt\u001b[0m\u001b[1;33m.\u001b[0m\u001b[0mdatetime\u001b[0m\u001b[1;33m.\u001b[0m\u001b[0mstrptime\u001b[0m\u001b[1;33m(\u001b[0m\u001b[0mx\u001b[0m\u001b[1;33m,\u001b[0m\u001b[1;34m'%Y%d%m'\u001b[0m\u001b[1;33m)\u001b[0m\u001b[1;33m)\u001b[0m\u001b[1;33m\u001b[0m\u001b[1;33m\u001b[0m\u001b[0m\n\u001b[0m",
      "\u001b[1;32mc:\\users\\tahir\\appdata\\local\\programs\\python\\python37\\lib\\_strptime.py\u001b[0m in \u001b[0;36m_strptime_datetime\u001b[1;34m(cls, data_string, format)\u001b[0m\n\u001b[0;32m    575\u001b[0m     \"\"\"Return a class cls instance based on the input string and the\n\u001b[0;32m    576\u001b[0m     format string.\"\"\"\n\u001b[1;32m--> 577\u001b[1;33m     \u001b[0mtt\u001b[0m\u001b[1;33m,\u001b[0m \u001b[0mfraction\u001b[0m\u001b[1;33m,\u001b[0m \u001b[0mgmtoff_fraction\u001b[0m \u001b[1;33m=\u001b[0m \u001b[0m_strptime\u001b[0m\u001b[1;33m(\u001b[0m\u001b[0mdata_string\u001b[0m\u001b[1;33m,\u001b[0m \u001b[0mformat\u001b[0m\u001b[1;33m)\u001b[0m\u001b[1;33m\u001b[0m\u001b[1;33m\u001b[0m\u001b[0m\n\u001b[0m\u001b[0;32m    578\u001b[0m     \u001b[0mtzname\u001b[0m\u001b[1;33m,\u001b[0m \u001b[0mgmtoff\u001b[0m \u001b[1;33m=\u001b[0m \u001b[0mtt\u001b[0m\u001b[1;33m[\u001b[0m\u001b[1;33m-\u001b[0m\u001b[1;36m2\u001b[0m\u001b[1;33m:\u001b[0m\u001b[1;33m]\u001b[0m\u001b[1;33m\u001b[0m\u001b[1;33m\u001b[0m\u001b[0m\n\u001b[0;32m    579\u001b[0m     \u001b[0margs\u001b[0m \u001b[1;33m=\u001b[0m \u001b[0mtt\u001b[0m\u001b[1;33m[\u001b[0m\u001b[1;33m:\u001b[0m\u001b[1;36m6\u001b[0m\u001b[1;33m]\u001b[0m \u001b[1;33m+\u001b[0m \u001b[1;33m(\u001b[0m\u001b[0mfraction\u001b[0m\u001b[1;33m,\u001b[0m\u001b[1;33m)\u001b[0m\u001b[1;33m\u001b[0m\u001b[1;33m\u001b[0m\u001b[0m\n",
      "\u001b[1;32mc:\\users\\tahir\\appdata\\local\\programs\\python\\python37\\lib\\_strptime.py\u001b[0m in \u001b[0;36m_strptime\u001b[1;34m(data_string, format)\u001b[0m\n\u001b[0;32m    357\u001b[0m     \u001b[1;32mif\u001b[0m \u001b[1;32mnot\u001b[0m \u001b[0mfound\u001b[0m\u001b[1;33m:\u001b[0m\u001b[1;33m\u001b[0m\u001b[1;33m\u001b[0m\u001b[0m\n\u001b[0;32m    358\u001b[0m         raise ValueError(\"time data %r does not match format %r\" %\n\u001b[1;32m--> 359\u001b[1;33m                          (data_string, format))\n\u001b[0m\u001b[0;32m    360\u001b[0m     \u001b[1;32mif\u001b[0m \u001b[0mlen\u001b[0m\u001b[1;33m(\u001b[0m\u001b[0mdata_string\u001b[0m\u001b[1;33m)\u001b[0m \u001b[1;33m!=\u001b[0m \u001b[0mfound\u001b[0m\u001b[1;33m.\u001b[0m\u001b[0mend\u001b[0m\u001b[1;33m(\u001b[0m\u001b[1;33m)\u001b[0m\u001b[1;33m:\u001b[0m\u001b[1;33m\u001b[0m\u001b[1;33m\u001b[0m\u001b[0m\n\u001b[0;32m    361\u001b[0m         raise ValueError(\"unconverted data remains: %s\" %\n",
      "\u001b[1;31mValueError\u001b[0m: time data '2019.010.029.0' does not match format '%Y%d%m'"
     ]
    }
   ],
   "source": [
    "# making a timeseries from the data\n",
    "\n",
    "txn['txnYear'], txn['txnMonth'], txn['txnDay'] = txn['txnYear'].astype(str),txn['txnMonth'].astype(str),txn['txnDay'].astype(str)\n",
    "txn['date'] = txn['txnYear']+ txn['txnMonth']+txn['txnDay']\n",
    "txn['date'] = txn['date'].apply(lambda x:dt.datetime.strptime(x,'%Y%d%m'))"
   ]
  },
  {
   "cell_type": "code",
   "execution_count": null,
   "metadata": {},
   "outputs": [],
   "source": []
  }
 ],
 "metadata": {
  "kernelspec": {
   "display_name": "Python 3",
   "language": "python",
   "name": "python3"
  },
  "language_info": {
   "codemirror_mode": {
    "name": "ipython",
    "version": 3
   },
   "file_extension": ".py",
   "mimetype": "text/x-python",
   "name": "python",
   "nbconvert_exporter": "python",
   "pygments_lexer": "ipython3",
   "version": "3.7.8"
  }
 },
 "nbformat": 4,
 "nbformat_minor": 4
}
